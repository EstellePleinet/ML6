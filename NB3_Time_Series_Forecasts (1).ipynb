{
 "cells": [
  {
   "cell_type": "markdown",
   "metadata": {},
   "source": [
    "# Part 3: Forecasting with a Prophet 📉"
   ]
  },
  {
   "cell_type": "markdown",
   "metadata": {},
   "source": [
    "One piece of recent open software is facebook's `prophet`. This uses a model which is similar to a **generalised additive model** (GAM), a class of additive (linear) models with potentially non-linear components. \n",
    "\n",
    "The model is easily interpreted (as a sum of components) and simple to fit (parameters have a strightforward interpretation). But if the hypothesis of the parametric model are not respected, the fitted model may seriously underfit.\n",
    "\n",
    "As you are beginning to see time series forecasting can sometimes be as much an art as a science, and we know it takes quite some practice to become a good artist. The authors of the software had this in mind when they wrote it. One of their aims is to provide software which can be used easily by those who have a little timeseries knowledge. Let's see how this goes..."
   ]
  },
  {
   "cell_type": "markdown",
   "metadata": {},
   "source": [
    "**Resources**\n",
    "\n",
    "- https://peerj.com/preprints/3190/\n",
    "- https://www.youtube.com/watch?v=2XFro0nIHQM&list=PLjwX9KFWtvNnOc4HtsvaDf1XYG3O5bv5s&index=10\n",
    "- https://www.youtube.com/watch?v=95-HMzxsghY\n",
    "- https://www.youtube.com/watch?v=pOYAXv15r3A "
   ]
  },
  {
   "cell_type": "markdown",
   "metadata": {},
   "source": [
    "**Required librairies**\n",
    "- [ ] prophet\n",
    "- [ ] numpy\n",
    "- [ ] pandas\n",
    "- [ ] matplotlib\n",
    "- [ ] seaborn\n",
    "- [ ] pmdarima"
   ]
  },
  {
   "cell_type": "markdown",
   "metadata": {},
   "source": [
    "To install prophet I advise you to install a completely clean virtual environment with conda (you will find the instructions to do this [here](https://docs.conda.io/projects/conda/en/4.6.1/user-guide/tasks/manage-environments.html)), with numpy, pandas, matplotlib, seaborn and pmdarima.\n",
    "\n",
    "Then you can install prophet with: `conda install conda-forge::prophet`\n"
   ]
  },
  {
   "cell_type": "code",
   "execution_count": 1,
   "metadata": {},
   "outputs": [],
   "source": [
    "# Import required packages\n",
    "import numpy as np\n",
    "import pandas as pd\n",
    "import matplotlib.pyplot as plt\n",
    "import seaborn as sns\n",
    "import pmdarima as pm\n",
    "from prophet import Prophet\n",
    "pd.plotting.register_matplotlib_converters()"
   ]
  },
  {
   "cell_type": "markdown",
   "metadata": {},
   "source": [
    "# Example 1 - Airline data\n",
    "\n",
    "Let's setup the data as we had done in the previous parts."
   ]
  },
  {
   "cell_type": "code",
   "execution_count": 2,
   "metadata": {},
   "outputs": [],
   "source": [
    "from pmdarima.datasets import load_airpassengers\n",
    "\n",
    "def ts_train_test_split(data, split_date):\n",
    "    '''\n",
    "    Split time series into training and test data\n",
    "    \n",
    "    Parameters:\n",
    "    -------\n",
    "    data - pd.DataFrame - time series data.  Index expected as datatimeindex\n",
    "    split_date - the date on which to split the time series\n",
    "    \n",
    "    Returns:\n",
    "    --------\n",
    "    tuple (len=2) \n",
    "    0. pandas.DataFrame - training dataset\n",
    "    1. pandas.DataFrame - test dataset\n",
    "    '''\n",
    "    train = data.loc[data.index < split_date]\n",
    "    test = data.loc[data.index >= split_date]\n",
    "    return train, test\n",
    "\n",
    "START_DATE = '1949-01-01'\n",
    "airline = load_airpassengers(as_series=True)\n",
    "\n",
    "# There's no datetimeindex from the bundled dataset. So let's add one.\n",
    "airline.index= pd.date_range(START_DATE, \n",
    "                             periods=len(airline), \n",
    "                             freq='MS')\n",
    "\n",
    "airline_adj = airline / airline.index.days_in_month # Remove spurious features due to variations of months duration\n",
    "train, test = ts_train_test_split(airline_adj, '1960-01-01') # Split the dataset into train and test set\n",
    "train_log, test_log = np.log(train), np.log(test) # Apply the log transformation"
   ]
  },
  {
   "cell_type": "markdown",
   "metadata": {},
   "source": [
    "## Forecasting with prophet\n",
    "\n",
    "Fitting a basic model and making predictions is very simple with `prophet`. You simply need to create a Prophet object, and then call its `fit` method on the training data."
   ]
  },
  {
   "cell_type": "markdown",
   "metadata": {},
   "source": [
    "The training data is expected in this data frame format"
   ]
  },
  {
   "cell_type": "code",
   "execution_count": 3,
   "metadata": {},
   "outputs": [
    {
     "data": {
      "text/html": [
       "<div>\n",
       "<style scoped>\n",
       "    .dataframe tbody tr th:only-of-type {\n",
       "        vertical-align: middle;\n",
       "    }\n",
       "\n",
       "    .dataframe tbody tr th {\n",
       "        vertical-align: top;\n",
       "    }\n",
       "\n",
       "    .dataframe thead th {\n",
       "        text-align: right;\n",
       "    }\n",
       "</style>\n",
       "<table border=\"1\" class=\"dataframe\">\n",
       "  <thead>\n",
       "    <tr style=\"text-align: right;\">\n",
       "      <th></th>\n",
       "      <th>ds</th>\n",
       "      <th>y</th>\n",
       "    </tr>\n",
       "  </thead>\n",
       "  <tbody>\n",
       "    <tr>\n",
       "      <th>127</th>\n",
       "      <td>1959-08-01</td>\n",
       "      <td>18.032258</td>\n",
       "    </tr>\n",
       "    <tr>\n",
       "      <th>128</th>\n",
       "      <td>1959-09-01</td>\n",
       "      <td>15.433333</td>\n",
       "    </tr>\n",
       "    <tr>\n",
       "      <th>129</th>\n",
       "      <td>1959-10-01</td>\n",
       "      <td>13.129032</td>\n",
       "    </tr>\n",
       "    <tr>\n",
       "      <th>130</th>\n",
       "      <td>1959-11-01</td>\n",
       "      <td>12.066667</td>\n",
       "    </tr>\n",
       "    <tr>\n",
       "      <th>131</th>\n",
       "      <td>1959-12-01</td>\n",
       "      <td>13.064516</td>\n",
       "    </tr>\n",
       "  </tbody>\n",
       "</table>\n",
       "</div>"
      ],
      "text/plain": [
       "            ds          y\n",
       "127 1959-08-01  18.032258\n",
       "128 1959-09-01  15.433333\n",
       "129 1959-10-01  13.129032\n",
       "130 1959-11-01  12.066667\n",
       "131 1959-12-01  13.064516"
      ]
     },
     "execution_count": 3,
     "metadata": {},
     "output_type": "execute_result"
    }
   ],
   "source": [
    "train_df = pd.DataFrame(train).reset_index().rename(columns = {0:'y','index':'ds'})\n",
    "train_df.tail()"
   ]
  },
  {
   "cell_type": "markdown",
   "metadata": {},
   "source": [
    "Fit model..."
   ]
  },
  {
   "cell_type": "code",
   "execution_count": 4,
   "metadata": {},
   "outputs": [
    {
     "name": "stderr",
     "output_type": "stream",
     "text": [
      "10:36:34 - cmdstanpy - INFO - Chain [1] start processing\n",
      "10:36:34 - cmdstanpy - INFO - Chain [1] done processing\n"
     ]
    },
    {
     "data": {
      "text/plain": [
       "<prophet.forecaster.Prophet at 0x176c94890>"
      ]
     },
     "execution_count": 4,
     "metadata": {},
     "output_type": "execute_result"
    }
   ],
   "source": [
    "model = Prophet()\n",
    "model.fit(train_df)"
   ]
  },
  {
   "cell_type": "markdown",
   "metadata": {},
   "source": [
    "Make predictions..."
   ]
  },
  {
   "cell_type": "code",
   "execution_count": 5,
   "metadata": {},
   "outputs": [
    {
     "data": {
      "text/html": [
       "<div>\n",
       "<style scoped>\n",
       "    .dataframe tbody tr th:only-of-type {\n",
       "        vertical-align: middle;\n",
       "    }\n",
       "\n",
       "    .dataframe tbody tr th {\n",
       "        vertical-align: top;\n",
       "    }\n",
       "\n",
       "    .dataframe thead th {\n",
       "        text-align: right;\n",
       "    }\n",
       "</style>\n",
       "<table border=\"1\" class=\"dataframe\">\n",
       "  <thead>\n",
       "    <tr style=\"text-align: right;\">\n",
       "      <th></th>\n",
       "      <th>ds</th>\n",
       "    </tr>\n",
       "  </thead>\n",
       "  <tbody>\n",
       "    <tr>\n",
       "      <th>0</th>\n",
       "      <td>1949-01-01</td>\n",
       "    </tr>\n",
       "    <tr>\n",
       "      <th>1</th>\n",
       "      <td>1949-02-01</td>\n",
       "    </tr>\n",
       "    <tr>\n",
       "      <th>2</th>\n",
       "      <td>1949-03-01</td>\n",
       "    </tr>\n",
       "    <tr>\n",
       "      <th>3</th>\n",
       "      <td>1949-04-01</td>\n",
       "    </tr>\n",
       "    <tr>\n",
       "      <th>4</th>\n",
       "      <td>1949-05-01</td>\n",
       "    </tr>\n",
       "  </tbody>\n",
       "</table>\n",
       "</div>"
      ],
      "text/plain": [
       "          ds\n",
       "0 1949-01-01\n",
       "1 1949-02-01\n",
       "2 1949-03-01\n",
       "3 1949-04-01\n",
       "4 1949-05-01"
      ]
     },
     "execution_count": 5,
     "metadata": {},
     "output_type": "execute_result"
    }
   ],
   "source": [
    "future = model.make_future_dataframe(periods=12, \n",
    "                                     freq='MS', \n",
    "                                     include_history=True) \n",
    "\n",
    "# Create a dataframe with the prediction datetimes we want\n",
    "future.head()"
   ]
  },
  {
   "cell_type": "code",
   "execution_count": 6,
   "metadata": {},
   "outputs": [],
   "source": [
    "forecast = model.predict(future)\n",
    "y_pred = forecast[['ds', 'yhat', 'yhat_lower', 'yhat_upper']].set_index('ds')"
   ]
  },
  {
   "cell_type": "markdown",
   "metadata": {},
   "source": [
    "Plot predictions..."
   ]
  },
  {
   "cell_type": "code",
   "execution_count": 7,
   "metadata": {},
   "outputs": [
    {
     "data": {
      "text/plain": [
       "<Axes: xlabel='ds', ylabel='y'>"
      ]
     },
     "execution_count": 7,
     "metadata": {},
     "output_type": "execute_result"
    },
    {
     "data": {
      "image/png": "[encoded data removed]",
      "text/plain": [
       "<Figure size 1000x600 with 1 Axes>"
      ]
     },
     "metadata": {},
     "output_type": "display_data"
    }
   ],
   "source": [
    "fig = model.plot(forecast)\n",
    "test.plot(style='.r')"
   ]
  },
  {
   "cell_type": "markdown",
   "metadata": {},
   "source": [
    "Evaluating this baseline model error on test set..."
   ]
  },
  {
   "cell_type": "code",
   "execution_count": 8,
   "metadata": {},
   "outputs": [],
   "source": [
    "def mean_absolute_percentage_error(y_true, y_pred): \n",
    "    '''\n",
    "    MAPE\n",
    "\n",
    "    Parameters:\n",
    "    --------\n",
    "    y_true -- np.array actual observations from time series\n",
    "    y_pred -- the predictions to evaluate\n",
    "\n",
    "    Returns:\n",
    "    -------\n",
    "    float, scalar value representing the MAPE (0-100)\n",
    "    '''\n",
    "    #y_true, y_pred = np.array(y_true), np.array(y_pred)\n",
    "    return np.mean(np.abs((y_true - y_pred) / y_true)) * 100"
   ]
  },
  {
   "cell_type": "code",
   "execution_count": 9,
   "metadata": {},
   "outputs": [
    {
     "data": {
      "text/plain": [
       "6.616329767294138"
      ]
     },
     "execution_count": 9,
     "metadata": {},
     "output_type": "execute_result"
    }
   ],
   "source": [
    "mean_absolute_percentage_error(test.values , \n",
    "                               forecast['yhat'][-12:])"
   ]
  },
  {
   "cell_type": "markdown",
   "metadata": {},
   "source": [
    "We see the Prophet at least beats the naive model that we defined in the last notebook (from the unlogged data). Not too bad, given the small number of lines of code! But looking at the plot it is not fitting very well. We should use a cross-validation scheme to find a better fitting model (before evaluating it on the test set!)."
   ]
  },
  {
   "cell_type": "markdown",
   "metadata": {},
   "source": [
    "## Cross validation with Prophet\n",
    "\n",
    "The `prophet` package also provides cross validation routines that perform adjustable rolling windows as we have seen previously in other cross validation routines specialized for time series data."
   ]
  },
  {
   "cell_type": "code",
   "execution_count": 10,
   "metadata": {},
   "outputs": [],
   "source": [
    "from prophet.diagnostics import cross_validation\n",
    "from prophet.diagnostics import performance_metrics\n",
    "from prophet.plot import plot_cross_validation_metric"
   ]
  },
  {
   "cell_type": "code",
   "execution_count": 11,
   "metadata": {},
   "outputs": [
    {
     "data": {
      "text/plain": [
       "1461.0"
      ]
     },
     "execution_count": 11,
     "metadata": {},
     "output_type": "execute_result"
    }
   ],
   "source": [
    "365.25*4"
   ]
  },
  {
   "cell_type": "code",
   "execution_count": 12,
   "metadata": {},
   "outputs": [
    {
     "name": "stderr",
     "output_type": "stream",
     "text": [
      "10:36:35 - cmdstanpy - INFO - Chain [1] start processing\n",
      "10:36:35 - cmdstanpy - INFO - Chain [1] done processing\n"
     ]
    },
    {
     "data": {
      "application/vnd.jupyter.widget-view+json": {
       "model_id": "9772787884b443d6b4fba8f009775a0f",
       "version_major": 2,
       "version_minor": 0
      },
      "text/plain": [
       "  0%|          | 0/6 [00:00<?, ?it/s]"
      ]
     },
     "metadata": {},
     "output_type": "display_data"
    },
    {
     "name": "stderr",
     "output_type": "stream",
     "text": [
      "10:36:35 - cmdstanpy - INFO - Chain [1] start processing\n",
      "10:36:35 - cmdstanpy - INFO - Chain [1] done processing\n",
      "10:36:35 - cmdstanpy - INFO - Chain [1] start processing\n",
      "10:36:35 - cmdstanpy - INFO - Chain [1] done processing\n",
      "10:36:35 - cmdstanpy - INFO - Chain [1] start processing\n",
      "10:36:35 - cmdstanpy - INFO - Chain [1] done processing\n",
      "10:36:35 - cmdstanpy - INFO - Chain [1] start processing\n",
      "10:36:35 - cmdstanpy - INFO - Chain [1] done processing\n",
      "10:36:35 - cmdstanpy - INFO - Chain [1] start processing\n",
      "10:36:35 - cmdstanpy - INFO - Chain [1] done processing\n",
      "10:36:35 - cmdstanpy - INFO - Chain [1] start processing\n",
      "10:36:35 - cmdstanpy - INFO - Chain [1] done processing\n"
     ]
    }
   ],
   "source": [
    "model = Prophet()\n",
    "model.fit(train_df)\n",
    "df_cv = cross_validation(model, \n",
    "                         initial='1461 days', \n",
    "                         period='365 days', \n",
    "                         horizon = '365 days')"
   ]
  },
  {
   "cell_type": "code",
   "execution_count": 13,
   "metadata": {},
   "outputs": [
    {
     "data": {
      "text/html": [
       "<div>\n",
       "<style scoped>\n",
       "    .dataframe tbody tr th:only-of-type {\n",
       "        vertical-align: middle;\n",
       "    }\n",
       "\n",
       "    .dataframe tbody tr th {\n",
       "        vertical-align: top;\n",
       "    }\n",
       "\n",
       "    .dataframe thead th {\n",
       "        text-align: right;\n",
       "    }\n",
       "</style>\n",
       "<table border=\"1\" class=\"dataframe\">\n",
       "  <thead>\n",
       "    <tr style=\"text-align: right;\">\n",
       "      <th></th>\n",
       "      <th>ds</th>\n",
       "      <th>yhat</th>\n",
       "      <th>yhat_lower</th>\n",
       "      <th>yhat_upper</th>\n",
       "      <th>y</th>\n",
       "      <th>cutoff</th>\n",
       "    </tr>\n",
       "  </thead>\n",
       "  <tbody>\n",
       "    <tr>\n",
       "      <th>0</th>\n",
       "      <td>1954-01-01</td>\n",
       "      <td>7.374734</td>\n",
       "      <td>7.142251</td>\n",
       "      <td>7.638603</td>\n",
       "      <td>6.580645</td>\n",
       "      <td>1953-12-02</td>\n",
       "    </tr>\n",
       "    <tr>\n",
       "      <th>1</th>\n",
       "      <td>1954-02-01</td>\n",
       "      <td>8.073017</td>\n",
       "      <td>7.814816</td>\n",
       "      <td>8.342312</td>\n",
       "      <td>6.714286</td>\n",
       "      <td>1953-12-02</td>\n",
       "    </tr>\n",
       "    <tr>\n",
       "      <th>2</th>\n",
       "      <td>1954-03-01</td>\n",
       "      <td>8.316090</td>\n",
       "      <td>8.059359</td>\n",
       "      <td>8.604296</td>\n",
       "      <td>7.580645</td>\n",
       "      <td>1953-12-02</td>\n",
       "    </tr>\n",
       "    <tr>\n",
       "      <th>3</th>\n",
       "      <td>1954-04-01</td>\n",
       "      <td>8.248495</td>\n",
       "      <td>7.959371</td>\n",
       "      <td>8.527928</td>\n",
       "      <td>7.566667</td>\n",
       "      <td>1953-12-02</td>\n",
       "    </tr>\n",
       "    <tr>\n",
       "      <th>4</th>\n",
       "      <td>1954-05-01</td>\n",
       "      <td>8.062864</td>\n",
       "      <td>7.789477</td>\n",
       "      <td>8.338078</td>\n",
       "      <td>7.548387</td>\n",
       "      <td>1953-12-02</td>\n",
       "    </tr>\n",
       "  </tbody>\n",
       "</table>\n",
       "</div>"
      ],
      "text/plain": [
       "          ds      yhat  yhat_lower  yhat_upper         y     cutoff\n",
       "0 1954-01-01  7.374734    7.142251    7.638603  6.580645 1953-12-02\n",
       "1 1954-02-01  8.073017    7.814816    8.342312  6.714286 1953-12-02\n",
       "2 1954-03-01  8.316090    8.059359    8.604296  7.580645 1953-12-02\n",
       "3 1954-04-01  8.248495    7.959371    8.527928  7.566667 1953-12-02\n",
       "4 1954-05-01  8.062864    7.789477    8.338078  7.548387 1953-12-02"
      ]
     },
     "execution_count": 13,
     "metadata": {},
     "output_type": "execute_result"
    }
   ],
   "source": [
    "df_cv.head()"
   ]
  },
  {
   "cell_type": "markdown",
   "metadata": {},
   "source": [
    "A function for performance metrics and plotting..."
   ]
  },
  {
   "cell_type": "code",
   "execution_count": 14,
   "metadata": {},
   "outputs": [],
   "source": [
    "df_p = performance_metrics(df_cv)"
   ]
  },
  {
   "cell_type": "code",
   "execution_count": 15,
   "metadata": {},
   "outputs": [
    {
     "data": {
      "text/html": [
       "<div>\n",
       "<style scoped>\n",
       "    .dataframe tbody tr th:only-of-type {\n",
       "        vertical-align: middle;\n",
       "    }\n",
       "\n",
       "    .dataframe tbody tr th {\n",
       "        vertical-align: top;\n",
       "    }\n",
       "\n",
       "    .dataframe thead th {\n",
       "        text-align: right;\n",
       "    }\n",
       "</style>\n",
       "<table border=\"1\" class=\"dataframe\">\n",
       "  <thead>\n",
       "    <tr style=\"text-align: right;\">\n",
       "      <th></th>\n",
       "      <th>horizon</th>\n",
       "      <th>mse</th>\n",
       "      <th>rmse</th>\n",
       "      <th>mae</th>\n",
       "      <th>mape</th>\n",
       "      <th>mdape</th>\n",
       "      <th>smape</th>\n",
       "      <th>coverage</th>\n",
       "    </tr>\n",
       "  </thead>\n",
       "  <tbody>\n",
       "    <tr>\n",
       "      <th>0</th>\n",
       "      <td>61 days</td>\n",
       "      <td>0.730360</td>\n",
       "      <td>0.854611</td>\n",
       "      <td>0.707502</td>\n",
       "      <td>0.078957</td>\n",
       "      <td>0.071685</td>\n",
       "      <td>0.074251</td>\n",
       "      <td>0.380952</td>\n",
       "    </tr>\n",
       "    <tr>\n",
       "      <th>1</th>\n",
       "      <td>62 days</td>\n",
       "      <td>0.898077</td>\n",
       "      <td>0.947669</td>\n",
       "      <td>0.824142</td>\n",
       "      <td>0.085267</td>\n",
       "      <td>0.086297</td>\n",
       "      <td>0.080259</td>\n",
       "      <td>0.285714</td>\n",
       "    </tr>\n",
       "    <tr>\n",
       "      <th>2</th>\n",
       "      <td>89 days</td>\n",
       "      <td>0.742299</td>\n",
       "      <td>0.861568</td>\n",
       "      <td>0.712954</td>\n",
       "      <td>0.075549</td>\n",
       "      <td>0.086297</td>\n",
       "      <td>0.071361</td>\n",
       "      <td>0.333333</td>\n",
       "    </tr>\n",
       "    <tr>\n",
       "      <th>3</th>\n",
       "      <td>90 days</td>\n",
       "      <td>0.571508</td>\n",
       "      <td>0.755982</td>\n",
       "      <td>0.583056</td>\n",
       "      <td>0.054608</td>\n",
       "      <td>0.041482</td>\n",
       "      <td>0.052265</td>\n",
       "      <td>0.571429</td>\n",
       "    </tr>\n",
       "    <tr>\n",
       "      <th>4</th>\n",
       "      <td>120 days</td>\n",
       "      <td>0.468811</td>\n",
       "      <td>0.684698</td>\n",
       "      <td>0.543437</td>\n",
       "      <td>0.054712</td>\n",
       "      <td>0.050609</td>\n",
       "      <td>0.052898</td>\n",
       "      <td>0.500000</td>\n",
       "    </tr>\n",
       "  </tbody>\n",
       "</table>\n",
       "</div>"
      ],
      "text/plain": [
       "   horizon       mse      rmse       mae      mape     mdape     smape  \\\n",
       "0  61 days  0.730360  0.854611  0.707502  0.078957  0.071685  0.074251   \n",
       "1  62 days  0.898077  0.947669  0.824142  0.085267  0.086297  0.080259   \n",
       "2  89 days  0.742299  0.861568  0.712954  0.075549  0.086297  0.071361   \n",
       "3  90 days  0.571508  0.755982  0.583056  0.054608  0.041482  0.052265   \n",
       "4 120 days  0.468811  0.684698  0.543437  0.054712  0.050609  0.052898   \n",
       "\n",
       "   coverage  \n",
       "0  0.380952  \n",
       "1  0.285714  \n",
       "2  0.333333  \n",
       "3  0.571429  \n",
       "4  0.500000  "
      ]
     },
     "execution_count": 15,
     "metadata": {},
     "output_type": "execute_result"
    }
   ],
   "source": [
    "df_p.head()"
   ]
  },
  {
   "cell_type": "code",
   "execution_count": 16,
   "metadata": {},
   "outputs": [
    {
     "name": "stderr",
     "output_type": "stream",
     "text": [
      "/opt/anaconda3/lib/python3.12/site-packages/prophet/plot.py:547: FutureWarning: Series.view is deprecated and will be removed in a future version. Use ``astype`` as an alternative to change the dtype.\n",
      "  x_plt = df_none['horizon'].astype('timedelta64[ns]').view(np.int64) / float(dt_conversions[i])\n",
      "/opt/anaconda3/lib/python3.12/site-packages/prophet/plot.py:548: FutureWarning: Series.view is deprecated and will be removed in a future version. Use ``astype`` as an alternative to change the dtype.\n",
      "  x_plt_h = df_h['horizon'].astype('timedelta64[ns]').view(np.int64) / float(dt_conversions[i])\n"
     ]
    },
    {
     "data": {
      "image/png": "[encoded data removed]",
      "text/plain": [
       "<Figure size 1000x600 with 1 Axes>"
      ]
     },
     "metadata": {},
     "output_type": "display_data"
    }
   ],
   "source": [
    "fig = plot_cross_validation_metric(df_cv, metric='mape')\n",
    "plt.show()"
   ]
  },
  {
   "cell_type": "markdown",
   "metadata": {},
   "source": [
    "The plot above is the standard output plot of the CV from `prophet`. It is different to what we have looked at before. Each grey point represents a prediction, made on a particular month. Because we made predictions over several horizons each are plotted on the graph. At around horizon 30 for example we see each of the plots over the first month of each of the 6, 12 month validations. The blue line shows a rolling window of the mape scores 'averaged' over the cv predictions. More info [here](https://facebook.github.io/prophet/docs/diagnostics.html).\n",
    "\n",
    "We are normally interested in the mean and std of the MAPE scores found at each window. This can be calculated from the dataframe returned from the `cross_validation` function above, using the function below. "
   ]
  },
  {
   "cell_type": "code",
   "execution_count": 17,
   "metadata": {},
   "outputs": [
    {
     "data": {
      "text/plain": [
       "count    6.000000\n",
       "mean     0.072113\n",
       "min      0.052698\n",
       "25%      0.059342\n",
       "50%      0.066481\n",
       "75%      0.077062\n",
       "max      0.109466\n",
       "std      0.020539\n",
       "Name: mape, dtype: float64"
      ]
     },
     "execution_count": 17,
     "metadata": {},
     "output_type": "execute_result"
    }
   ],
   "source": [
    "def mape_performance_calc(df_cv):\n",
    "    \" function to replace prophet cv 'performance metrics' function\"\n",
    "    df_cv['mape'] = abs(df_cv['y'] - df_cv['yhat']) /df_cv['y'] # make column with individual abs normalised values\n",
    "    results = df_cv.groupby(['cutoff']).mean() # finish mape calc for each of the folds (distinguised in 'cutoff' column of df_cv)\n",
    "    results = results.describe() # sumarise folds information\n",
    "    results = results['mape']# # return only mape column\n",
    "    return(results)\n",
    "\n",
    "mape_performance_calc(df_cv)"
   ]
  },
  {
   "cell_type": "markdown",
   "metadata": {},
   "source": [
    "We find a MAPE of ~7.2% with std ~2%. This would have estimated the error we saw on the test set to a good degree."
   ]
  },
  {
   "cell_type": "markdown",
   "metadata": {},
   "source": [
    "## Hyper-parameters\n",
    "\n",
    "The model plot we saw earlier did not fit very well to the train data. We can change the model assumptions (like hyper-parameters) to change how well it is fitting the train data.\n",
    "\n",
    "`Prophet(\n",
    "    growth='linear',\n",
    "    changepoints=None,\n",
    "    n_changepoints=25,\n",
    "    changepoint_range=0.8,\n",
    "    yearly_seasonality='auto',\n",
    "    weekly_seasonality='auto',\n",
    "    daily_seasonality='auto',\n",
    "    holidays=None,\n",
    "    seasonality_mode='additive',\n",
    "    seasonality_prior_scale=10.0,\n",
    "    holidays_prior_scale=10.0,\n",
    "    changepoint_prior_scale=0.05,\n",
    "    mcmc_samples=0,\n",
    "    interval_width=0.8,\n",
    "    uncertainty_samples=1000,\n",
    "    stan_backend=None,\n",
    ")`"
   ]
  },
  {
   "cell_type": "markdown",
   "metadata": {},
   "source": [
    "**TODO**\n",
    "\n",
    "* Try changing some of these. [This](https://medium.com/data-science/implementing-facebook-prophet-efficiently-c241305405a3) blog is very useful in explaining the parameters and what they do.\n",
    "* Find at least one change which improves your model cross validation score"
   ]
  },
  {
   "cell_type": "code",
   "execution_count": 18,
   "metadata": {},
   "outputs": [
    {
     "name": "stderr",
     "output_type": "stream",
     "text": [
      "10:36:35 - cmdstanpy - INFO - Chain [1] start processing\n",
      "10:36:35 - cmdstanpy - INFO - Chain [1] done processing\n"
     ]
    },
    {
     "data": {
      "application/vnd.jupyter.widget-view+json": {
       "model_id": "693a9e99478e4379afc79f14b8659a1f",
       "version_major": 2,
       "version_minor": 0
      },
      "text/plain": [
       "  0%|          | 0/6 [00:00<?, ?it/s]"
      ]
     },
     "metadata": {},
     "output_type": "display_data"
    },
    {
     "name": "stderr",
     "output_type": "stream",
     "text": [
      "10:36:36 - cmdstanpy - INFO - Chain [1] start processing\n",
      "10:36:36 - cmdstanpy - INFO - Chain [1] done processing\n",
      "10:36:36 - cmdstanpy - INFO - Chain [1] start processing\n",
      "10:36:36 - cmdstanpy - INFO - Chain [1] done processing\n",
      "10:36:36 - cmdstanpy - INFO - Chain [1] start processing\n",
      "10:36:37 - cmdstanpy - INFO - Chain [1] done processing\n",
      "10:36:37 - cmdstanpy - INFO - Chain [1] start processing\n",
      "10:36:37 - cmdstanpy - INFO - Chain [1] done processing\n",
      "10:36:37 - cmdstanpy - INFO - Chain [1] start processing\n",
      "10:36:37 - cmdstanpy - INFO - Chain [1] done processing\n",
      "10:36:37 - cmdstanpy - INFO - Chain [1] start processing\n",
      "10:36:37 - cmdstanpy - INFO - Chain [1] done processing\n"
     ]
    },
    {
     "data": {
      "text/plain": [
       "count    6.000000\n",
       "mean     0.057100\n",
       "min      0.028421\n",
       "25%      0.036782\n",
       "50%      0.055517\n",
       "75%      0.075570\n",
       "max      0.090350\n",
       "std      0.025055\n",
       "Name: mape, dtype: float64"
      ]
     },
     "execution_count": 18,
     "metadata": {},
     "output_type": "execute_result"
    },
    {
     "data": {
      "image/png": "[encoded data removed]",
      "text/plain": [
       "<Figure size 1000x600 with 1 Axes>"
      ]
     },
     "metadata": {},
     "output_type": "display_data"
    }
   ],
   "source": [
    "#### your solution here \n",
    "prophet = Prophet( growth='linear',\n",
    "                  changepoints=None,\n",
    "                  n_changepoints=50,\n",
    "                  changepoint_range=0.95,\n",
    "                  seasonality_mode='multiplicative',\n",
    "                  seasonality_prior_scale=10.0,\n",
    "                  holidays_prior_scale=10.0,\n",
    "                  changepoint_prior_scale=0.05,\n",
    "                  yearly_seasonality=True,\n",
    "                  weekly_seasonality=True,\n",
    "                  daily_seasonality=False\n",
    ")\n",
    "prophet.fit(train_df)\n",
    "prophet_future = prophet.make_future_dataframe(periods=12, \n",
    "                                                freq='MS', \n",
    "                                                include_history=True)\n",
    "prophet_forecast = prophet.predict(prophet_future)\n",
    "prophet_y_pred = prophet_forecast[['ds', 'yhat', 'yhat_lower', 'yhat_upper']].set_index('ds')\n",
    "fig = prophet.plot(prophet_forecast)\n",
    "test.plot(style='.r')\n",
    "mape_performance_calc(cross_validation(prophet, \n",
    "                                         initial='1461 days', \n",
    "                                         period='365 days', \n",
    "                                         horizon = '365 days'))\n"
   ]
  },
  {
   "cell_type": "code",
   "execution_count": 19,
   "metadata": {},
   "outputs": [
    {
     "data": {
      "application/vnd.jupyter.widget-view+json": {
       "model_id": "e7b3c68e6a2b443cb05a3c751b756a1d",
       "version_major": 2,
       "version_minor": 0
      },
      "text/plain": [
       "  0%|          | 0/6 [00:00<?, ?it/s]"
      ]
     },
     "metadata": {},
     "output_type": "display_data"
    },
    {
     "name": "stderr",
     "output_type": "stream",
     "text": [
      "10:36:37 - cmdstanpy - INFO - Chain [1] start processing\n",
      "10:36:38 - cmdstanpy - INFO - Chain [1] done processing\n",
      "10:36:38 - cmdstanpy - INFO - Chain [1] start processing\n",
      "10:36:38 - cmdstanpy - INFO - Chain [1] done processing\n",
      "10:36:38 - cmdstanpy - INFO - Chain [1] start processing\n",
      "10:36:39 - cmdstanpy - INFO - Chain [1] done processing\n",
      "10:36:39 - cmdstanpy - INFO - Chain [1] start processing\n",
      "10:36:39 - cmdstanpy - INFO - Chain [1] done processing\n",
      "10:36:39 - cmdstanpy - INFO - Chain [1] start processing\n",
      "10:36:39 - cmdstanpy - INFO - Chain [1] done processing\n",
      "10:36:39 - cmdstanpy - INFO - Chain [1] start processing\n",
      "10:36:39 - cmdstanpy - INFO - Chain [1] done processing\n",
      "/opt/anaconda3/lib/python3.12/site-packages/prophet/plot.py:547: FutureWarning: Series.view is deprecated and will be removed in a future version. Use ``astype`` as an alternative to change the dtype.\n",
      "  x_plt = df_none['horizon'].astype('timedelta64[ns]').view(np.int64) / float(dt_conversions[i])\n",
      "/opt/anaconda3/lib/python3.12/site-packages/prophet/plot.py:548: FutureWarning: Series.view is deprecated and will be removed in a future version. Use ``astype`` as an alternative to change the dtype.\n",
      "  x_plt_h = df_h['horizon'].astype('timedelta64[ns]').view(np.int64) / float(dt_conversions[i])\n"
     ]
    },
    {
     "data": {
      "image/png": "[encoded data removed]",
      "text/plain": [
       "<Figure size 1000x600 with 1 Axes>"
      ]
     },
     "metadata": {},
     "output_type": "display_data"
    }
   ],
   "source": [
    "df_cv = cross_validation(prophet, \n",
    "                         initial='1461 days', \n",
    "                         period='365 days', \n",
    "                         horizon = '365 days')\n",
    "df_p = performance_metrics(df_cv)\n",
    "fig = plot_cross_validation_metric(df_cv, metric='mape')\n",
    "plt.show()"
   ]
  },
  {
   "cell_type": "code",
   "execution_count": 20,
   "metadata": {},
   "outputs": [
    {
     "name": "stderr",
     "output_type": "stream",
     "text": [
      "10:36:40 - cmdstanpy - INFO - Chain [1] start processing\n",
      "10:36:40 - cmdstanpy - INFO - Chain [1] done processing\n",
      "10:36:41 - cmdstanpy - INFO - Chain [1] start processing\n",
      "10:36:41 - cmdstanpy - INFO - Chain [1] start processing\n",
      "10:36:41 - cmdstanpy - INFO - Chain [1] start processing\n",
      "10:36:41 - cmdstanpy - INFO - Chain [1] start processing\n",
      "10:36:41 - cmdstanpy - INFO - Chain [1] done processing\n",
      "10:36:41 - cmdstanpy - INFO - Chain [1] start processing\n",
      "10:36:41 - cmdstanpy - INFO - Chain [1] done processing\n",
      "10:36:41 - cmdstanpy - INFO - Chain [1] start processing\n",
      "10:36:41 - cmdstanpy - INFO - Chain [1] done processing\n",
      "10:36:41 - cmdstanpy - INFO - Chain [1] done processing\n",
      "10:36:41 - cmdstanpy - ERROR - Chain [1] error: error during processing Operation not permitted\n",
      "Optimization terminated abnormally. Falling back to Newton.\n",
      "10:36:41 - cmdstanpy - INFO - Chain [1] start processing\n",
      "10:36:41 - cmdstanpy - INFO - Chain [1] done processing\n",
      "10:36:41 - cmdstanpy - INFO - Chain [1] done processing\n",
      "10:36:41 - cmdstanpy - INFO - Chain [1] done processing\n",
      "10:36:41 - cmdstanpy - INFO - Chain [1] start processing\n",
      "10:36:41 - cmdstanpy - INFO - Chain [1] done processing\n",
      "10:36:41 - cmdstanpy - ERROR - Chain [1] error: error during processing Operation not permitted\n",
      "Optimization terminated abnormally. Falling back to Newton.\n",
      "10:36:41 - cmdstanpy - INFO - Chain [1] start processing\n"
     ]
    },
    {
     "name": "stdout",
     "output_type": "stream",
     "text": [
      "Testé: cps=0.001, sps=1.0, mode=multiplicative, nb=10 ➤ MAPE=0.0589\n"
     ]
    },
    {
     "name": "stderr",
     "output_type": "stream",
     "text": [
      "10:36:41 - cmdstanpy - INFO - Chain [1] done processing\n",
      "10:36:43 - cmdstanpy - INFO - Chain [1] start processing\n",
      "10:36:43 - cmdstanpy - INFO - Chain [1] start processing\n",
      "10:36:43 - cmdstanpy - INFO - Chain [1] start processing\n",
      "10:36:43 - cmdstanpy - INFO - Chain [1] start processing\n",
      "10:36:43 - cmdstanpy - INFO - Chain [1] start processing\n",
      "10:36:43 - cmdstanpy - INFO - Chain [1] start processing\n",
      "10:36:43 - cmdstanpy - INFO - Chain [1] done processing\n",
      "10:36:43 - cmdstanpy - ERROR - Chain [1] error: error during processing Operation not permitted\n",
      "Optimization terminated abnormally. Falling back to Newton.\n",
      "10:36:43 - cmdstanpy - INFO - Chain [1] start processing\n",
      "10:36:43 - cmdstanpy - INFO - Chain [1] done processing\n",
      "10:36:43 - cmdstanpy - ERROR - Chain [1] error: error during processing Operation not permitted\n",
      "Optimization terminated abnormally. Falling back to Newton.\n",
      "10:36:43 - cmdstanpy - INFO - Chain [1] start processing\n",
      "10:36:43 - cmdstanpy - INFO - Chain [1] done processing\n",
      "10:36:43 - cmdstanpy - INFO - Chain [1] done processing\n",
      "10:36:43 - cmdstanpy - INFO - Chain [1] done processing\n",
      "10:36:43 - cmdstanpy - INFO - Chain [1] done processing\n",
      "10:36:43 - cmdstanpy - INFO - Chain [1] done processing\n",
      "10:36:43 - cmdstanpy - INFO - Chain [1] done processing\n",
      "10:36:43 - cmdstanpy - INFO - Chain [1] start processing\n",
      "10:36:43 - cmdstanpy - INFO - Chain [1] done processing\n",
      "10:36:43 - cmdstanpy - ERROR - Chain [1] error: error during processing Operation not permitted\n",
      "Optimization terminated abnormally. Falling back to Newton.\n",
      "10:36:43 - cmdstanpy - INFO - Chain [1] start processing\n"
     ]
    },
    {
     "name": "stdout",
     "output_type": "stream",
     "text": [
      "Testé: cps=0.001, sps=1.0, mode=multiplicative, nb=20 ➤ MAPE=0.0573\n"
     ]
    },
    {
     "name": "stderr",
     "output_type": "stream",
     "text": [
      "10:36:43 - cmdstanpy - INFO - Chain [1] done processing\n",
      "10:36:44 - cmdstanpy - INFO - Chain [1] start processing\n",
      "10:36:44 - cmdstanpy - INFO - Chain [1] start processing\n",
      "10:36:44 - cmdstanpy - INFO - Chain [1] start processing\n",
      "10:36:44 - cmdstanpy - INFO - Chain [1] start processing\n",
      "10:36:44 - cmdstanpy - INFO - Chain [1] done processing\n",
      "10:36:44 - cmdstanpy - ERROR - Chain [1] error: error during processing Operation not permitted\n",
      "Optimization terminated abnormally. Falling back to Newton.\n",
      "10:36:44 - cmdstanpy - INFO - Chain [1] start processing\n",
      "10:36:44 - cmdstanpy - INFO - Chain [1] start processing\n",
      "10:36:44 - cmdstanpy - INFO - Chain [1] done processing\n",
      "10:36:44 - cmdstanpy - ERROR - Chain [1] error: error during processing Operation not permitted\n",
      "Optimization terminated abnormally. Falling back to Newton.\n",
      "10:36:44 - cmdstanpy - INFO - Chain [1] start processing\n",
      "10:36:44 - cmdstanpy - INFO - Chain [1] start processing\n",
      "10:36:44 - cmdstanpy - INFO - Chain [1] done processing\n",
      "10:36:44 - cmdstanpy - INFO - Chain [1] done processing\n",
      "10:36:45 - cmdstanpy - INFO - Chain [1] done processing\n",
      "10:36:45 - cmdstanpy - INFO - Chain [1] done processing\n",
      "10:36:45 - cmdstanpy - INFO - Chain [1] done processing\n",
      "10:36:45 - cmdstanpy - INFO - Chain [1] done processing\n",
      "10:36:45 - cmdstanpy - INFO - Chain [1] start processing\n",
      "10:36:45 - cmdstanpy - INFO - Chain [1] done processing\n",
      "10:36:45 - cmdstanpy - ERROR - Chain [1] error: error during processing Operation not permitted\n",
      "Optimization terminated abnormally. Falling back to Newton.\n",
      "10:36:45 - cmdstanpy - INFO - Chain [1] start processing\n"
     ]
    },
    {
     "name": "stdout",
     "output_type": "stream",
     "text": [
      "Testé: cps=0.001, sps=1.0, mode=multiplicative, nb=30 ➤ MAPE=0.0568\n"
     ]
    },
    {
     "name": "stderr",
     "output_type": "stream",
     "text": [
      "10:36:45 - cmdstanpy - INFO - Chain [1] done processing\n",
      "10:36:46 - cmdstanpy - INFO - Chain [1] start processing\n",
      "10:36:46 - cmdstanpy - INFO - Chain [1] start processing\n",
      "10:36:46 - cmdstanpy - INFO - Chain [1] start processing\n",
      "10:36:46 - cmdstanpy - INFO - Chain [1] start processing\n",
      "10:36:46 - cmdstanpy - INFO - Chain [1] start processing\n",
      "10:36:46 - cmdstanpy - INFO - Chain [1] start processing\n",
      "10:36:46 - cmdstanpy - INFO - Chain [1] done processing\n",
      "10:36:46 - cmdstanpy - ERROR - Chain [1] error: error during processing Operation not permitted\n",
      "Optimization terminated abnormally. Falling back to Newton.\n",
      "10:36:46 - cmdstanpy - INFO - Chain [1] done processing\n",
      "10:36:46 - cmdstanpy - ERROR - Chain [1] error: error during processing Operation not permitted\n",
      "Optimization terminated abnormally. Falling back to Newton.\n",
      "10:36:46 - cmdstanpy - INFO - Chain [1] start processing\n",
      "10:36:46 - cmdstanpy - INFO - Chain [1] start processing\n",
      "10:36:46 - cmdstanpy - INFO - Chain [1] done processing\n",
      "10:36:46 - cmdstanpy - INFO - Chain [1] done processing\n",
      "10:36:47 - cmdstanpy - INFO - Chain [1] done processing\n",
      "10:36:47 - cmdstanpy - INFO - Chain [1] done processing\n",
      "10:36:47 - cmdstanpy - INFO - Chain [1] done processing\n",
      "10:36:47 - cmdstanpy - INFO - Chain [1] done processing\n",
      "10:36:47 - cmdstanpy - INFO - Chain [1] start processing\n",
      "10:36:47 - cmdstanpy - INFO - Chain [1] done processing\n",
      "10:36:47 - cmdstanpy - ERROR - Chain [1] error: error during processing Operation not permitted\n",
      "Optimization terminated abnormally. Falling back to Newton.\n",
      "10:36:47 - cmdstanpy - INFO - Chain [1] start processing\n"
     ]
    },
    {
     "name": "stdout",
     "output_type": "stream",
     "text": [
      "Testé: cps=0.001, sps=1.0, mode=multiplicative, nb=50 ➤ MAPE=0.0560\n"
     ]
    },
    {
     "name": "stderr",
     "output_type": "stream",
     "text": [
      "10:36:48 - cmdstanpy - INFO - Chain [1] done processing\n",
      "10:36:49 - cmdstanpy - INFO - Chain [1] start processing\n",
      "10:36:49 - cmdstanpy - INFO - Chain [1] start processing\n",
      "10:36:49 - cmdstanpy - INFO - Chain [1] start processing\n",
      "10:36:49 - cmdstanpy - INFO - Chain [1] start processing\n",
      "10:36:49 - cmdstanpy - INFO - Chain [1] start processing\n",
      "10:36:49 - cmdstanpy - INFO - Chain [1] start processing\n",
      "10:36:49 - cmdstanpy - INFO - Chain [1] done processing\n",
      "10:36:49 - cmdstanpy - ERROR - Chain [1] error: error during processing Operation not permitted\n",
      "Optimization terminated abnormally. Falling back to Newton.\n",
      "10:36:49 - cmdstanpy - INFO - Chain [1] done processing\n",
      "10:36:49 - cmdstanpy - ERROR - Chain [1] error: error during processing Operation not permitted\n",
      "Optimization terminated abnormally. Falling back to Newton.\n",
      "10:36:49 - cmdstanpy - INFO - Chain [1] start processing\n",
      "10:36:49 - cmdstanpy - INFO - Chain [1] start processing\n",
      "10:36:49 - cmdstanpy - INFO - Chain [1] done processing\n",
      "10:36:49 - cmdstanpy - INFO - Chain [1] done processing\n",
      "10:36:49 - cmdstanpy - INFO - Chain [1] done processing\n",
      "10:36:49 - cmdstanpy - INFO - Chain [1] done processing\n",
      "10:36:50 - cmdstanpy - INFO - Chain [1] done processing\n",
      "10:36:50 - cmdstanpy - INFO - Chain [1] done processing\n",
      "10:36:50 - cmdstanpy - INFO - Chain [1] start processing\n",
      "10:36:50 - cmdstanpy - INFO - Chain [1] done processing\n"
     ]
    },
    {
     "name": "stdout",
     "output_type": "stream",
     "text": [
      "Testé: cps=0.001, sps=1.0, mode=multiplicative, nb=70 ➤ MAPE=0.0573\n"
     ]
    },
    {
     "name": "stderr",
     "output_type": "stream",
     "text": [
      "10:36:51 - cmdstanpy - INFO - Chain [1] start processing\n",
      "10:36:51 - cmdstanpy - INFO - Chain [1] start processing\n",
      "10:36:51 - cmdstanpy - INFO - Chain [1] done processing\n",
      "10:36:51 - cmdstanpy - INFO - Chain [1] start processing\n",
      "10:36:51 - cmdstanpy - INFO - Chain [1] start processing\n",
      "10:36:51 - cmdstanpy - INFO - Chain [1] start processing\n",
      "10:36:51 - cmdstanpy - INFO - Chain [1] done processing\n",
      "10:36:51 - cmdstanpy - ERROR - Chain [1] error: error during processing Operation not permitted\n",
      "Optimization terminated abnormally. Falling back to Newton.\n",
      "10:36:51 - cmdstanpy - INFO - Chain [1] start processing\n",
      "10:36:51 - cmdstanpy - INFO - Chain [1] start processing\n",
      "10:36:51 - cmdstanpy - INFO - Chain [1] done processing\n",
      "10:36:51 - cmdstanpy - INFO - Chain [1] done processing\n",
      "10:36:51 - cmdstanpy - INFO - Chain [1] done processing\n",
      "10:36:51 - cmdstanpy - INFO - Chain [1] done processing\n",
      "10:36:51 - cmdstanpy - INFO - Chain [1] done processing\n",
      "10:36:51 - cmdstanpy - INFO - Chain [1] start processing\n",
      "10:36:51 - cmdstanpy - INFO - Chain [1] done processing\n",
      "10:36:51 - cmdstanpy - ERROR - Chain [1] error: error during processing Operation not permitted\n",
      "Optimization terminated abnormally. Falling back to Newton.\n",
      "10:36:51 - cmdstanpy - INFO - Chain [1] start processing\n"
     ]
    },
    {
     "name": "stdout",
     "output_type": "stream",
     "text": [
      "Testé: cps=0.001, sps=5.0, mode=multiplicative, nb=10 ➤ MAPE=0.0602\n"
     ]
    },
    {
     "name": "stderr",
     "output_type": "stream",
     "text": [
      "10:36:51 - cmdstanpy - INFO - Chain [1] done processing\n",
      "10:36:53 - cmdstanpy - INFO - Chain [1] start processing\n",
      "10:36:53 - cmdstanpy - INFO - Chain [1] start processing\n",
      "10:36:53 - cmdstanpy - INFO - Chain [1] start processing\n",
      "10:36:53 - cmdstanpy - INFO - Chain [1] start processing\n",
      "10:36:53 - cmdstanpy - INFO - Chain [1] done processing\n",
      "10:36:53 - cmdstanpy - INFO - Chain [1] start processing\n",
      "10:36:53 - cmdstanpy - INFO - Chain [1] start processing\n",
      "10:36:53 - cmdstanpy - INFO - Chain [1] done processing\n",
      "10:36:53 - cmdstanpy - ERROR - Chain [1] error: error during processing Operation not permitted\n",
      "Optimization terminated abnormally. Falling back to Newton.\n",
      "10:36:53 - cmdstanpy - INFO - Chain [1] done processing\n",
      "10:36:53 - cmdstanpy - ERROR - Chain [1] error: error during processing Operation not permitted\n",
      "Optimization terminated abnormally. Falling back to Newton.\n",
      "10:36:53 - cmdstanpy - INFO - Chain [1] start processing\n",
      "10:36:53 - cmdstanpy - INFO - Chain [1] start processing\n",
      "10:36:53 - cmdstanpy - INFO - Chain [1] done processing\n",
      "10:36:53 - cmdstanpy - INFO - Chain [1] done processing\n",
      "10:36:53 - cmdstanpy - INFO - Chain [1] done processing\n",
      "10:36:53 - cmdstanpy - INFO - Chain [1] done processing\n",
      "10:36:53 - cmdstanpy - INFO - Chain [1] done processing\n",
      "10:36:53 - cmdstanpy - INFO - Chain [1] start processing\n",
      "10:36:53 - cmdstanpy - INFO - Chain [1] done processing\n",
      "10:36:53 - cmdstanpy - ERROR - Chain [1] error: error during processing Operation not permitted\n",
      "Optimization terminated abnormally. Falling back to Newton.\n",
      "10:36:53 - cmdstanpy - INFO - Chain [1] start processing\n"
     ]
    },
    {
     "name": "stdout",
     "output_type": "stream",
     "text": [
      "Testé: cps=0.001, sps=5.0, mode=multiplicative, nb=20 ➤ MAPE=0.0564\n"
     ]
    },
    {
     "name": "stderr",
     "output_type": "stream",
     "text": [
      "10:36:53 - cmdstanpy - INFO - Chain [1] done processing\n",
      "10:36:54 - cmdstanpy - INFO - Chain [1] start processing\n",
      "10:36:54 - cmdstanpy - INFO - Chain [1] start processing\n",
      "10:36:54 - cmdstanpy - INFO - Chain [1] start processing\n",
      "10:36:54 - cmdstanpy - INFO - Chain [1] start processing\n",
      "10:36:54 - cmdstanpy - INFO - Chain [1] start processing\n",
      "10:36:54 - cmdstanpy - INFO - Chain [1] done processing\n",
      "10:36:54 - cmdstanpy - ERROR - Chain [1] error: error during processing Operation not permitted\n",
      "Optimization terminated abnormally. Falling back to Newton.\n",
      "10:36:54 - cmdstanpy - INFO - Chain [1] start processing\n",
      "10:36:54 - cmdstanpy - INFO - Chain [1] start processing\n",
      "10:36:54 - cmdstanpy - INFO - Chain [1] done processing\n",
      "10:36:54 - cmdstanpy - ERROR - Chain [1] error: error during processing Operation not permitted\n",
      "Optimization terminated abnormally. Falling back to Newton.\n",
      "10:36:54 - cmdstanpy - INFO - Chain [1] start processing\n",
      "10:36:54 - cmdstanpy - INFO - Chain [1] done processing\n",
      "10:36:55 - cmdstanpy - INFO - Chain [1] done processing\n",
      "10:36:55 - cmdstanpy - INFO - Chain [1] done processing\n",
      "10:36:55 - cmdstanpy - INFO - Chain [1] done processing\n",
      "10:36:55 - cmdstanpy - INFO - Chain [1] done processing\n",
      "10:36:55 - cmdstanpy - INFO - Chain [1] done processing\n",
      "10:36:55 - cmdstanpy - INFO - Chain [1] start processing\n",
      "10:36:55 - cmdstanpy - INFO - Chain [1] done processing\n",
      "10:36:55 - cmdstanpy - ERROR - Chain [1] error: error during processing Operation not permitted\n",
      "Optimization terminated abnormally. Falling back to Newton.\n",
      "10:36:55 - cmdstanpy - INFO - Chain [1] start processing\n"
     ]
    },
    {
     "name": "stdout",
     "output_type": "stream",
     "text": [
      "Testé: cps=0.001, sps=5.0, mode=multiplicative, nb=30 ➤ MAPE=0.0573\n"
     ]
    },
    {
     "name": "stderr",
     "output_type": "stream",
     "text": [
      "10:36:55 - cmdstanpy - INFO - Chain [1] done processing\n",
      "10:36:56 - cmdstanpy - INFO - Chain [1] start processing\n",
      "10:36:56 - cmdstanpy - INFO - Chain [1] start processing\n",
      "10:36:56 - cmdstanpy - INFO - Chain [1] start processing\n",
      "10:36:56 - cmdstanpy - INFO - Chain [1] start processing\n",
      "10:36:56 - cmdstanpy - INFO - Chain [1] start processing\n",
      "10:36:56 - cmdstanpy - INFO - Chain [1] done processing\n",
      "10:36:56 - cmdstanpy - ERROR - Chain [1] error: error during processing Operation not permitted\n",
      "Optimization terminated abnormally. Falling back to Newton.\n",
      "10:36:56 - cmdstanpy - INFO - Chain [1] start processing\n",
      "10:36:56 - cmdstanpy - INFO - Chain [1] start processing\n",
      "10:36:56 - cmdstanpy - INFO - Chain [1] done processing\n",
      "10:36:56 - cmdstanpy - ERROR - Chain [1] error: error during processing Operation not permitted\n",
      "Optimization terminated abnormally. Falling back to Newton.\n",
      "10:36:56 - cmdstanpy - INFO - Chain [1] start processing\n",
      "10:36:57 - cmdstanpy - INFO - Chain [1] done processing\n",
      "10:36:57 - cmdstanpy - INFO - Chain [1] done processing\n",
      "10:36:57 - cmdstanpy - INFO - Chain [1] done processing\n",
      "10:36:57 - cmdstanpy - INFO - Chain [1] done processing\n",
      "10:36:57 - cmdstanpy - INFO - Chain [1] done processing\n",
      "10:36:57 - cmdstanpy - INFO - Chain [1] done processing\n",
      "10:36:57 - cmdstanpy - INFO - Chain [1] start processing\n",
      "10:36:57 - cmdstanpy - INFO - Chain [1] done processing\n",
      "10:36:57 - cmdstanpy - ERROR - Chain [1] error: error during processing Operation not permitted\n",
      "Optimization terminated abnormally. Falling back to Newton.\n",
      "10:36:57 - cmdstanpy - INFO - Chain [1] start processing\n"
     ]
    },
    {
     "name": "stdout",
     "output_type": "stream",
     "text": [
      "Testé: cps=0.001, sps=5.0, mode=multiplicative, nb=50 ➤ MAPE=0.0561\n"
     ]
    },
    {
     "name": "stderr",
     "output_type": "stream",
     "text": [
      "10:36:58 - cmdstanpy - INFO - Chain [1] done processing\n",
      "10:36:59 - cmdstanpy - INFO - Chain [1] start processing\n",
      "10:36:59 - cmdstanpy - INFO - Chain [1] start processing\n",
      "10:36:59 - cmdstanpy - INFO - Chain [1] start processing\n",
      "10:36:59 - cmdstanpy - INFO - Chain [1] start processing\n",
      "10:36:59 - cmdstanpy - INFO - Chain [1] start processing\n",
      "10:36:59 - cmdstanpy - INFO - Chain [1] done processing\n",
      "10:36:59 - cmdstanpy - ERROR - Chain [1] error: error during processing Operation not permitted\n",
      "Optimization terminated abnormally. Falling back to Newton.\n",
      "10:36:59 - cmdstanpy - INFO - Chain [1] start processing\n",
      "10:36:59 - cmdstanpy - INFO - Chain [1] start processing\n",
      "10:36:59 - cmdstanpy - INFO - Chain [1] done processing\n",
      "10:36:59 - cmdstanpy - ERROR - Chain [1] error: error during processing Operation not permitted\n",
      "Optimization terminated abnormally. Falling back to Newton.\n",
      "10:36:59 - cmdstanpy - INFO - Chain [1] start processing\n",
      "10:36:59 - cmdstanpy - INFO - Chain [1] done processing\n",
      "10:36:59 - cmdstanpy - INFO - Chain [1] done processing\n",
      "10:36:59 - cmdstanpy - INFO - Chain [1] done processing\n",
      "10:36:59 - cmdstanpy - INFO - Chain [1] done processing\n",
      "10:36:59 - cmdstanpy - INFO - Chain [1] done processing\n",
      "10:37:00 - cmdstanpy - INFO - Chain [1] done processing\n",
      "10:37:00 - cmdstanpy - INFO - Chain [1] start processing\n",
      "10:37:00 - cmdstanpy - INFO - Chain [1] done processing\n"
     ]
    },
    {
     "name": "stdout",
     "output_type": "stream",
     "text": [
      "Testé: cps=0.001, sps=5.0, mode=multiplicative, nb=70 ➤ MAPE=0.0561\n"
     ]
    },
    {
     "name": "stderr",
     "output_type": "stream",
     "text": [
      "10:37:01 - cmdstanpy - INFO - Chain [1] start processing\n",
      "10:37:01 - cmdstanpy - INFO - Chain [1] done processing\n",
      "10:37:01 - cmdstanpy - INFO - Chain [1] start processing\n",
      "10:37:01 - cmdstanpy - INFO - Chain [1] start processing\n",
      "10:37:01 - cmdstanpy - INFO - Chain [1] start processing\n",
      "10:37:01 - cmdstanpy - INFO - Chain [1] start processing\n",
      "10:37:01 - cmdstanpy - INFO - Chain [1] done processing\n",
      "10:37:01 - cmdstanpy - INFO - Chain [1] start processing\n",
      "10:37:01 - cmdstanpy - INFO - Chain [1] done processing\n",
      "10:37:01 - cmdstanpy - ERROR - Chain [1] error: error during processing Operation not permitted\n",
      "Optimization terminated abnormally. Falling back to Newton.\n",
      "10:37:01 - cmdstanpy - INFO - Chain [1] start processing\n",
      "10:37:01 - cmdstanpy - INFO - Chain [1] done processing\n",
      "10:37:01 - cmdstanpy - INFO - Chain [1] done processing\n",
      "10:37:01 - cmdstanpy - INFO - Chain [1] done processing\n",
      "10:37:01 - cmdstanpy - INFO - Chain [1] done processing\n",
      "10:37:01 - cmdstanpy - INFO - Chain [1] start processing\n",
      "10:37:01 - cmdstanpy - INFO - Chain [1] done processing\n",
      "10:37:01 - cmdstanpy - ERROR - Chain [1] error: error during processing Operation not permitted\n",
      "Optimization terminated abnormally. Falling back to Newton.\n",
      "10:37:01 - cmdstanpy - INFO - Chain [1] start processing\n"
     ]
    },
    {
     "name": "stdout",
     "output_type": "stream",
     "text": [
      "Testé: cps=0.001, sps=10.0, mode=multiplicative, nb=10 ➤ MAPE=0.0599\n"
     ]
    },
    {
     "name": "stderr",
     "output_type": "stream",
     "text": [
      "10:37:02 - cmdstanpy - INFO - Chain [1] done processing\n",
      "10:37:03 - cmdstanpy - INFO - Chain [1] start processing\n",
      "10:37:03 - cmdstanpy - INFO - Chain [1] start processing\n",
      "10:37:03 - cmdstanpy - INFO - Chain [1] start processing\n",
      "10:37:03 - cmdstanpy - INFO - Chain [1] start processing\n",
      "10:37:03 - cmdstanpy - INFO - Chain [1] start processing\n",
      "10:37:03 - cmdstanpy - INFO - Chain [1] start processing\n",
      "10:37:03 - cmdstanpy - INFO - Chain [1] done processing\n",
      "10:37:03 - cmdstanpy - ERROR - Chain [1] error: error during processing Operation not permitted\n",
      "Optimization terminated abnormally. Falling back to Newton.\n",
      "10:37:03 - cmdstanpy - INFO - Chain [1] start processing\n",
      "10:37:03 - cmdstanpy - INFO - Chain [1] done processing\n",
      "10:37:03 - cmdstanpy - ERROR - Chain [1] error: error during processing Operation not permitted\n",
      "Optimization terminated abnormally. Falling back to Newton.\n",
      "10:37:03 - cmdstanpy - INFO - Chain [1] start processing\n",
      "10:37:03 - cmdstanpy - INFO - Chain [1] done processing\n",
      "10:37:03 - cmdstanpy - INFO - Chain [1] done processing\n",
      "10:37:03 - cmdstanpy - INFO - Chain [1] done processing\n",
      "10:37:03 - cmdstanpy - INFO - Chain [1] done processing\n",
      "10:37:03 - cmdstanpy - INFO - Chain [1] done processing\n",
      "10:37:03 - cmdstanpy - INFO - Chain [1] done processing\n",
      "10:37:03 - cmdstanpy - INFO - Chain [1] start processing\n",
      "10:37:03 - cmdstanpy - INFO - Chain [1] done processing\n",
      "10:37:03 - cmdstanpy - ERROR - Chain [1] error: error during processing Operation not permitted\n",
      "Optimization terminated abnormally. Falling back to Newton.\n",
      "10:37:03 - cmdstanpy - INFO - Chain [1] start processing\n"
     ]
    },
    {
     "name": "stdout",
     "output_type": "stream",
     "text": [
      "Testé: cps=0.001, sps=10.0, mode=multiplicative, nb=20 ➤ MAPE=0.0555\n"
     ]
    },
    {
     "name": "stderr",
     "output_type": "stream",
     "text": [
      "10:37:03 - cmdstanpy - INFO - Chain [1] done processing\n",
      "10:37:05 - cmdstanpy - INFO - Chain [1] start processing\n",
      "10:37:05 - cmdstanpy - INFO - Chain [1] start processing\n",
      "10:37:05 - cmdstanpy - INFO - Chain [1] start processing\n",
      "10:37:05 - cmdstanpy - INFO - Chain [1] start processing\n",
      "10:37:05 - cmdstanpy - INFO - Chain [1] start processing\n",
      "10:37:05 - cmdstanpy - INFO - Chain [1] start processing\n",
      "10:37:05 - cmdstanpy - INFO - Chain [1] done processing\n",
      "10:37:05 - cmdstanpy - ERROR - Chain [1] error: error during processing Operation not permitted\n",
      "Optimization terminated abnormally. Falling back to Newton.\n",
      "10:37:05 - cmdstanpy - INFO - Chain [1] start processing\n",
      "10:37:05 - cmdstanpy - INFO - Chain [1] done processing\n",
      "10:37:05 - cmdstanpy - ERROR - Chain [1] error: error during processing Operation not permitted\n",
      "Optimization terminated abnormally. Falling back to Newton.\n",
      "10:37:05 - cmdstanpy - INFO - Chain [1] start processing\n",
      "10:37:05 - cmdstanpy - INFO - Chain [1] done processing\n",
      "10:37:05 - cmdstanpy - INFO - Chain [1] done processing\n",
      "10:37:05 - cmdstanpy - INFO - Chain [1] done processing\n",
      "10:37:05 - cmdstanpy - INFO - Chain [1] done processing\n",
      "10:37:05 - cmdstanpy - INFO - Chain [1] done processing\n",
      "10:37:05 - cmdstanpy - INFO - Chain [1] done processing\n",
      "10:37:05 - cmdstanpy - INFO - Chain [1] start processing\n",
      "10:37:05 - cmdstanpy - INFO - Chain [1] done processing\n",
      "10:37:05 - cmdstanpy - ERROR - Chain [1] error: error during processing Operation not permitted\n",
      "Optimization terminated abnormally. Falling back to Newton.\n",
      "10:37:05 - cmdstanpy - INFO - Chain [1] start processing\n"
     ]
    },
    {
     "name": "stdout",
     "output_type": "stream",
     "text": [
      "Testé: cps=0.001, sps=10.0, mode=multiplicative, nb=30 ➤ MAPE=0.0560\n"
     ]
    },
    {
     "name": "stderr",
     "output_type": "stream",
     "text": [
      "10:37:05 - cmdstanpy - INFO - Chain [1] done processing\n",
      "10:37:06 - cmdstanpy - INFO - Chain [1] start processing\n",
      "10:37:06 - cmdstanpy - INFO - Chain [1] start processing\n",
      "10:37:06 - cmdstanpy - INFO - Chain [1] start processing\n",
      "10:37:06 - cmdstanpy - INFO - Chain [1] start processing\n",
      "10:37:06 - cmdstanpy - INFO - Chain [1] start processing\n",
      "10:37:06 - cmdstanpy - INFO - Chain [1] start processing\n",
      "10:37:06 - cmdstanpy - INFO - Chain [1] done processing\n",
      "10:37:06 - cmdstanpy - ERROR - Chain [1] error: error during processing Operation not permitted\n",
      "Optimization terminated abnormally. Falling back to Newton.\n",
      "10:37:06 - cmdstanpy - INFO - Chain [1] start processing\n",
      "10:37:06 - cmdstanpy - INFO - Chain [1] done processing\n",
      "10:37:06 - cmdstanpy - ERROR - Chain [1] error: error during processing Operation not permitted\n",
      "Optimization terminated abnormally. Falling back to Newton.\n",
      "10:37:06 - cmdstanpy - INFO - Chain [1] start processing\n",
      "10:37:07 - cmdstanpy - INFO - Chain [1] done processing\n",
      "10:37:07 - cmdstanpy - INFO - Chain [1] done processing\n",
      "10:37:07 - cmdstanpy - INFO - Chain [1] done processing\n",
      "10:37:07 - cmdstanpy - INFO - Chain [1] done processing\n",
      "10:37:07 - cmdstanpy - INFO - Chain [1] done processing\n",
      "10:37:07 - cmdstanpy - INFO - Chain [1] done processing\n",
      "10:37:07 - cmdstanpy - INFO - Chain [1] start processing\n",
      "10:37:07 - cmdstanpy - INFO - Chain [1] done processing\n",
      "10:37:07 - cmdstanpy - ERROR - Chain [1] error: error during processing Operation not permitted\n",
      "Optimization terminated abnormally. Falling back to Newton.\n",
      "10:37:07 - cmdstanpy - INFO - Chain [1] start processing\n"
     ]
    },
    {
     "name": "stdout",
     "output_type": "stream",
     "text": [
      "Testé: cps=0.001, sps=10.0, mode=multiplicative, nb=50 ➤ MAPE=0.0560\n"
     ]
    },
    {
     "name": "stderr",
     "output_type": "stream",
     "text": [
      "10:37:07 - cmdstanpy - INFO - Chain [1] done processing\n",
      "10:37:08 - cmdstanpy - INFO - Chain [1] start processing\n",
      "10:37:08 - cmdstanpy - INFO - Chain [1] start processing\n",
      "10:37:09 - cmdstanpy - INFO - Chain [1] start processing\n",
      "10:37:09 - cmdstanpy - INFO - Chain [1] start processing\n",
      "10:37:09 - cmdstanpy - INFO - Chain [1] start processing\n",
      "10:37:09 - cmdstanpy - INFO - Chain [1] start processing\n",
      "10:37:09 - cmdstanpy - INFO - Chain [1] done processing\n",
      "10:37:09 - cmdstanpy - ERROR - Chain [1] error: error during processing Operation not permitted\n",
      "Optimization terminated abnormally. Falling back to Newton.\n",
      "10:37:09 - cmdstanpy - INFO - Chain [1] start processing\n",
      "10:37:09 - cmdstanpy - INFO - Chain [1] done processing\n",
      "10:37:09 - cmdstanpy - ERROR - Chain [1] error: error during processing Operation not permitted\n",
      "Optimization terminated abnormally. Falling back to Newton.\n",
      "10:37:09 - cmdstanpy - INFO - Chain [1] start processing\n",
      "10:37:09 - cmdstanpy - INFO - Chain [1] done processing\n",
      "10:37:09 - cmdstanpy - INFO - Chain [1] done processing\n",
      "10:37:09 - cmdstanpy - INFO - Chain [1] done processing\n",
      "10:37:09 - cmdstanpy - INFO - Chain [1] done processing\n",
      "10:37:09 - cmdstanpy - INFO - Chain [1] done processing\n",
      "10:37:09 - cmdstanpy - INFO - Chain [1] done processing\n",
      "10:37:09 - cmdstanpy - INFO - Chain [1] start processing\n",
      "10:37:09 - cmdstanpy - INFO - Chain [1] done processing\n"
     ]
    },
    {
     "name": "stdout",
     "output_type": "stream",
     "text": [
      "Testé: cps=0.001, sps=10.0, mode=multiplicative, nb=70 ➤ MAPE=0.0563\n"
     ]
    },
    {
     "name": "stderr",
     "output_type": "stream",
     "text": [
      "10:37:11 - cmdstanpy - INFO - Chain [1] start processing\n",
      "10:37:11 - cmdstanpy - INFO - Chain [1] start processing\n",
      "10:37:11 - cmdstanpy - INFO - Chain [1] start processing\n",
      "10:37:11 - cmdstanpy - INFO - Chain [1] done processing\n",
      "10:37:11 - cmdstanpy - INFO - Chain [1] start processing\n",
      "10:37:11 - cmdstanpy - INFO - Chain [1] start processing\n",
      "10:37:11 - cmdstanpy - INFO - Chain [1] start processing\n",
      "10:37:11 - cmdstanpy - INFO - Chain [1] done processing\n",
      "10:37:11 - cmdstanpy - INFO - Chain [1] done processing\n",
      "10:37:11 - cmdstanpy - INFO - Chain [1] done processing\n",
      "10:37:11 - cmdstanpy - INFO - Chain [1] done processing\n",
      "10:37:11 - cmdstanpy - INFO - Chain [1] done processing\n",
      "10:37:11 - cmdstanpy - INFO - Chain [1] start processing\n",
      "10:37:11 - cmdstanpy - INFO - Chain [1] done processing\n"
     ]
    },
    {
     "name": "stdout",
     "output_type": "stream",
     "text": [
      "Testé: cps=0.01, sps=1.0, mode=multiplicative, nb=10 ➤ MAPE=0.0530\n"
     ]
    },
    {
     "name": "stderr",
     "output_type": "stream",
     "text": [
      "10:37:12 - cmdstanpy - INFO - Chain [1] start processing\n",
      "10:37:12 - cmdstanpy - INFO - Chain [1] start processing\n",
      "10:37:12 - cmdstanpy - INFO - Chain [1] start processing\n",
      "10:37:12 - cmdstanpy - INFO - Chain [1] start processing\n",
      "10:37:12 - cmdstanpy - INFO - Chain [1] start processing\n",
      "10:37:12 - cmdstanpy - INFO - Chain [1] done processing\n",
      "10:37:12 - cmdstanpy - INFO - Chain [1] start processing\n",
      "10:37:13 - cmdstanpy - INFO - Chain [1] done processing\n",
      "10:37:13 - cmdstanpy - INFO - Chain [1] done processing\n",
      "10:37:13 - cmdstanpy - INFO - Chain [1] done processing\n",
      "10:37:13 - cmdstanpy - INFO - Chain [1] done processing\n",
      "10:37:13 - cmdstanpy - INFO - Chain [1] done processing\n",
      "10:37:13 - cmdstanpy - INFO - Chain [1] start processing\n",
      "10:37:13 - cmdstanpy - INFO - Chain [1] done processing\n"
     ]
    },
    {
     "name": "stdout",
     "output_type": "stream",
     "text": [
      "Testé: cps=0.01, sps=1.0, mode=multiplicative, nb=20 ➤ MAPE=0.0527\n"
     ]
    },
    {
     "name": "stderr",
     "output_type": "stream",
     "text": [
      "10:37:14 - cmdstanpy - INFO - Chain [1] start processing\n",
      "10:37:14 - cmdstanpy - INFO - Chain [1] start processing\n",
      "10:37:14 - cmdstanpy - INFO - Chain [1] start processing\n",
      "10:37:14 - cmdstanpy - INFO - Chain [1] start processing\n",
      "10:37:14 - cmdstanpy - INFO - Chain [1] start processing\n",
      "10:37:14 - cmdstanpy - INFO - Chain [1] start processing\n",
      "10:37:14 - cmdstanpy - INFO - Chain [1] done processing\n",
      "10:37:14 - cmdstanpy - INFO - Chain [1] done processing\n",
      "10:37:15 - cmdstanpy - INFO - Chain [1] done processing\n",
      "10:37:15 - cmdstanpy - INFO - Chain [1] done processing\n",
      "10:37:15 - cmdstanpy - INFO - Chain [1] done processing\n",
      "10:37:15 - cmdstanpy - INFO - Chain [1] done processing\n",
      "10:37:15 - cmdstanpy - INFO - Chain [1] start processing\n",
      "10:37:15 - cmdstanpy - INFO - Chain [1] done processing\n"
     ]
    },
    {
     "name": "stdout",
     "output_type": "stream",
     "text": [
      "Testé: cps=0.01, sps=1.0, mode=multiplicative, nb=30 ➤ MAPE=0.0531\n"
     ]
    },
    {
     "name": "stderr",
     "output_type": "stream",
     "text": [
      "10:37:16 - cmdstanpy - INFO - Chain [1] start processing\n",
      "10:37:16 - cmdstanpy - INFO - Chain [1] start processing\n",
      "10:37:16 - cmdstanpy - INFO - Chain [1] start processing\n",
      "10:37:16 - cmdstanpy - INFO - Chain [1] start processing\n",
      "10:37:16 - cmdstanpy - INFO - Chain [1] start processing\n",
      "10:37:16 - cmdstanpy - INFO - Chain [1] done processing\n",
      "10:37:16 - cmdstanpy - INFO - Chain [1] start processing\n",
      "10:37:16 - cmdstanpy - INFO - Chain [1] done processing\n",
      "10:37:16 - cmdstanpy - INFO - Chain [1] done processing\n",
      "10:37:17 - cmdstanpy - INFO - Chain [1] done processing\n",
      "10:37:17 - cmdstanpy - INFO - Chain [1] done processing\n",
      "10:37:17 - cmdstanpy - INFO - Chain [1] done processing\n",
      "10:37:17 - cmdstanpy - INFO - Chain [1] start processing\n",
      "10:37:17 - cmdstanpy - INFO - Chain [1] done processing\n"
     ]
    },
    {
     "name": "stdout",
     "output_type": "stream",
     "text": [
      "Testé: cps=0.01, sps=1.0, mode=multiplicative, nb=50 ➤ MAPE=0.0525\n"
     ]
    },
    {
     "name": "stderr",
     "output_type": "stream",
     "text": [
      "10:37:18 - cmdstanpy - INFO - Chain [1] start processing\n",
      "10:37:18 - cmdstanpy - INFO - Chain [1] start processing\n",
      "10:37:18 - cmdstanpy - INFO - Chain [1] start processing\n",
      "10:37:18 - cmdstanpy - INFO - Chain [1] start processing\n",
      "10:37:18 - cmdstanpy - INFO - Chain [1] start processing\n",
      "10:37:18 - cmdstanpy - INFO - Chain [1] done processing\n",
      "10:37:18 - cmdstanpy - INFO - Chain [1] start processing\n",
      "10:37:18 - cmdstanpy - INFO - Chain [1] done processing\n",
      "10:37:18 - cmdstanpy - ERROR - Chain [1] error: error during processing Operation not permitted\n",
      "Optimization terminated abnormally. Falling back to Newton.\n",
      "10:37:18 - cmdstanpy - INFO - Chain [1] start processing\n",
      "10:37:19 - cmdstanpy - INFO - Chain [1] done processing\n",
      "10:37:19 - cmdstanpy - INFO - Chain [1] done processing\n",
      "10:37:19 - cmdstanpy - INFO - Chain [1] done processing\n",
      "10:37:19 - cmdstanpy - INFO - Chain [1] done processing\n",
      "10:37:19 - cmdstanpy - INFO - Chain [1] done processing\n",
      "10:37:19 - cmdstanpy - INFO - Chain [1] start processing\n",
      "10:37:19 - cmdstanpy - INFO - Chain [1] done processing\n"
     ]
    },
    {
     "name": "stdout",
     "output_type": "stream",
     "text": [
      "Testé: cps=0.01, sps=1.0, mode=multiplicative, nb=70 ➤ MAPE=0.0520\n"
     ]
    },
    {
     "name": "stderr",
     "output_type": "stream",
     "text": [
      "10:37:21 - cmdstanpy - INFO - Chain [1] start processing\n",
      "10:37:21 - cmdstanpy - INFO - Chain [1] start processing\n",
      "10:37:21 - cmdstanpy - INFO - Chain [1] start processing\n",
      "10:37:21 - cmdstanpy - INFO - Chain [1] start processing\n",
      "10:37:21 - cmdstanpy - INFO - Chain [1] done processing\n",
      "10:37:21 - cmdstanpy - INFO - Chain [1] done processing\n",
      "10:37:21 - cmdstanpy - INFO - Chain [1] start processing\n",
      "10:37:21 - cmdstanpy - INFO - Chain [1] done processing\n",
      "10:37:21 - cmdstanpy - INFO - Chain [1] start processing\n",
      "10:37:21 - cmdstanpy - INFO - Chain [1] done processing\n",
      "10:37:21 - cmdstanpy - INFO - Chain [1] done processing\n",
      "10:37:21 - cmdstanpy - INFO - Chain [1] done processing\n",
      "10:37:21 - cmdstanpy - INFO - Chain [1] start processing\n",
      "10:37:21 - cmdstanpy - INFO - Chain [1] done processing\n"
     ]
    },
    {
     "name": "stdout",
     "output_type": "stream",
     "text": [
      "Testé: cps=0.01, sps=5.0, mode=multiplicative, nb=10 ➤ MAPE=0.0538\n"
     ]
    },
    {
     "name": "stderr",
     "output_type": "stream",
     "text": [
      "10:37:23 - cmdstanpy - INFO - Chain [1] start processing\n",
      "10:37:23 - cmdstanpy - INFO - Chain [1] start processing\n",
      "10:37:23 - cmdstanpy - INFO - Chain [1] start processing\n",
      "10:37:23 - cmdstanpy - INFO - Chain [1] start processing\n",
      "10:37:23 - cmdstanpy - INFO - Chain [1] start processing\n",
      "10:37:23 - cmdstanpy - INFO - Chain [1] start processing\n",
      "10:37:23 - cmdstanpy - INFO - Chain [1] done processing\n",
      "10:37:23 - cmdstanpy - INFO - Chain [1] done processing\n",
      "10:37:23 - cmdstanpy - INFO - Chain [1] done processing\n",
      "10:37:23 - cmdstanpy - INFO - Chain [1] done processing\n",
      "10:37:23 - cmdstanpy - INFO - Chain [1] done processing\n",
      "10:37:23 - cmdstanpy - INFO - Chain [1] done processing\n",
      "10:37:23 - cmdstanpy - INFO - Chain [1] start processing\n",
      "10:37:23 - cmdstanpy - INFO - Chain [1] done processing\n"
     ]
    },
    {
     "name": "stdout",
     "output_type": "stream",
     "text": [
      "Testé: cps=0.01, sps=5.0, mode=multiplicative, nb=20 ➤ MAPE=0.0528\n"
     ]
    },
    {
     "name": "stderr",
     "output_type": "stream",
     "text": [
      "10:37:25 - cmdstanpy - INFO - Chain [1] start processing\n",
      "10:37:25 - cmdstanpy - INFO - Chain [1] start processing\n",
      "10:37:25 - cmdstanpy - INFO - Chain [1] start processing\n",
      "10:37:25 - cmdstanpy - INFO - Chain [1] start processing\n",
      "10:37:25 - cmdstanpy - INFO - Chain [1] start processing\n",
      "10:37:25 - cmdstanpy - INFO - Chain [1] done processing\n",
      "10:37:25 - cmdstanpy - INFO - Chain [1] start processing\n",
      "10:37:25 - cmdstanpy - INFO - Chain [1] done processing\n",
      "10:37:25 - cmdstanpy - INFO - Chain [1] done processing\n",
      "10:37:25 - cmdstanpy - INFO - Chain [1] done processing\n",
      "10:37:25 - cmdstanpy - INFO - Chain [1] done processing\n",
      "10:37:25 - cmdstanpy - INFO - Chain [1] done processing\n",
      "10:37:25 - cmdstanpy - INFO - Chain [1] start processing\n",
      "10:37:25 - cmdstanpy - INFO - Chain [1] done processing\n"
     ]
    },
    {
     "name": "stdout",
     "output_type": "stream",
     "text": [
      "Testé: cps=0.01, sps=5.0, mode=multiplicative, nb=30 ➤ MAPE=0.0534\n"
     ]
    },
    {
     "name": "stderr",
     "output_type": "stream",
     "text": [
      "10:37:27 - cmdstanpy - INFO - Chain [1] start processing\n",
      "10:37:27 - cmdstanpy - INFO - Chain [1] start processing\n",
      "10:37:27 - cmdstanpy - INFO - Chain [1] start processing\n",
      "10:37:27 - cmdstanpy - INFO - Chain [1] start processing\n",
      "10:37:27 - cmdstanpy - INFO - Chain [1] start processing\n",
      "10:37:27 - cmdstanpy - INFO - Chain [1] start processing\n",
      "10:37:27 - cmdstanpy - INFO - Chain [1] done processing\n",
      "10:37:27 - cmdstanpy - INFO - Chain [1] done processing\n",
      "10:37:27 - cmdstanpy - INFO - Chain [1] done processing\n",
      "10:37:27 - cmdstanpy - INFO - Chain [1] done processing\n",
      "10:37:27 - cmdstanpy - INFO - Chain [1] done processing\n",
      "10:37:28 - cmdstanpy - INFO - Chain [1] done processing\n",
      "10:37:28 - cmdstanpy - INFO - Chain [1] start processing\n",
      "10:37:28 - cmdstanpy - INFO - Chain [1] done processing\n"
     ]
    },
    {
     "name": "stdout",
     "output_type": "stream",
     "text": [
      "Testé: cps=0.01, sps=5.0, mode=multiplicative, nb=50 ➤ MAPE=0.0535\n"
     ]
    },
    {
     "name": "stderr",
     "output_type": "stream",
     "text": [
      "10:37:29 - cmdstanpy - INFO - Chain [1] start processing\n",
      "10:37:29 - cmdstanpy - INFO - Chain [1] start processing\n",
      "10:37:29 - cmdstanpy - INFO - Chain [1] start processing\n",
      "10:37:30 - cmdstanpy - INFO - Chain [1] start processing\n",
      "10:37:30 - cmdstanpy - INFO - Chain [1] start processing\n",
      "10:37:30 - cmdstanpy - INFO - Chain [1] start processing\n",
      "10:37:30 - cmdstanpy - INFO - Chain [1] done processing\n",
      "10:37:30 - cmdstanpy - ERROR - Chain [1] error: error during processing Operation not permitted\n",
      "Optimization terminated abnormally. Falling back to Newton.\n",
      "10:37:30 - cmdstanpy - INFO - Chain [1] start processing\n",
      "10:37:30 - cmdstanpy - INFO - Chain [1] done processing\n",
      "10:37:30 - cmdstanpy - INFO - Chain [1] done processing\n",
      "10:37:30 - cmdstanpy - INFO - Chain [1] done processing\n",
      "10:37:30 - cmdstanpy - INFO - Chain [1] done processing\n",
      "10:37:31 - cmdstanpy - INFO - Chain [1] done processing\n",
      "10:37:31 - cmdstanpy - INFO - Chain [1] done processing\n",
      "10:37:31 - cmdstanpy - INFO - Chain [1] start processing\n",
      "10:37:31 - cmdstanpy - INFO - Chain [1] done processing\n"
     ]
    },
    {
     "name": "stdout",
     "output_type": "stream",
     "text": [
      "Testé: cps=0.01, sps=5.0, mode=multiplicative, nb=70 ➤ MAPE=0.0525\n"
     ]
    },
    {
     "name": "stderr",
     "output_type": "stream",
     "text": [
      "10:37:32 - cmdstanpy - INFO - Chain [1] start processing\n",
      "10:37:32 - cmdstanpy - INFO - Chain [1] start processing\n",
      "10:37:32 - cmdstanpy - INFO - Chain [1] start processing\n",
      "10:37:32 - cmdstanpy - INFO - Chain [1] done processing\n",
      "10:37:32 - cmdstanpy - INFO - Chain [1] start processing\n",
      "10:37:32 - cmdstanpy - INFO - Chain [1] start processing\n",
      "10:37:32 - cmdstanpy - INFO - Chain [1] start processing\n",
      "10:37:32 - cmdstanpy - INFO - Chain [1] done processing\n",
      "10:37:33 - cmdstanpy - INFO - Chain [1] done processing\n",
      "10:37:33 - cmdstanpy - INFO - Chain [1] done processing\n",
      "10:37:33 - cmdstanpy - INFO - Chain [1] done processing\n",
      "10:37:33 - cmdstanpy - INFO - Chain [1] done processing\n",
      "10:37:33 - cmdstanpy - INFO - Chain [1] start processing\n",
      "10:37:33 - cmdstanpy - INFO - Chain [1] done processing\n"
     ]
    },
    {
     "name": "stdout",
     "output_type": "stream",
     "text": [
      "Testé: cps=0.01, sps=10.0, mode=multiplicative, nb=10 ➤ MAPE=0.0538\n"
     ]
    },
    {
     "name": "stderr",
     "output_type": "stream",
     "text": [
      "10:37:35 - cmdstanpy - INFO - Chain [1] start processing\n",
      "10:37:35 - cmdstanpy - INFO - Chain [1] start processing\n",
      "10:37:35 - cmdstanpy - INFO - Chain [1] start processing\n",
      "10:37:35 - cmdstanpy - INFO - Chain [1] start processing\n",
      "10:37:35 - cmdstanpy - INFO - Chain [1] done processing\n",
      "10:37:35 - cmdstanpy - INFO - Chain [1] start processing\n",
      "10:37:35 - cmdstanpy - INFO - Chain [1] start processing\n",
      "10:37:35 - cmdstanpy - INFO - Chain [1] done processing\n",
      "10:37:35 - cmdstanpy - INFO - Chain [1] done processing\n",
      "10:37:35 - cmdstanpy - INFO - Chain [1] done processing\n",
      "10:37:35 - cmdstanpy - INFO - Chain [1] done processing\n",
      "10:37:35 - cmdstanpy - INFO - Chain [1] done processing\n",
      "10:37:35 - cmdstanpy - INFO - Chain [1] start processing\n",
      "10:37:35 - cmdstanpy - INFO - Chain [1] done processing\n"
     ]
    },
    {
     "name": "stdout",
     "output_type": "stream",
     "text": [
      "Testé: cps=0.01, sps=10.0, mode=multiplicative, nb=20 ➤ MAPE=0.0526\n"
     ]
    },
    {
     "name": "stderr",
     "output_type": "stream",
     "text": [
      "10:37:38 - cmdstanpy - INFO - Chain [1] start processing\n",
      "10:37:38 - cmdstanpy - INFO - Chain [1] start processing\n",
      "10:37:38 - cmdstanpy - INFO - Chain [1] start processing\n",
      "10:37:38 - cmdstanpy - INFO - Chain [1] start processing\n",
      "10:37:38 - cmdstanpy - INFO - Chain [1] start processing\n",
      "10:37:38 - cmdstanpy - INFO - Chain [1] start processing\n",
      "10:37:38 - cmdstanpy - INFO - Chain [1] done processing\n",
      "10:37:38 - cmdstanpy - INFO - Chain [1] done processing\n",
      "10:37:38 - cmdstanpy - INFO - Chain [1] done processing\n",
      "10:37:38 - cmdstanpy - INFO - Chain [1] done processing\n",
      "10:37:38 - cmdstanpy - INFO - Chain [1] done processing\n",
      "10:37:38 - cmdstanpy - INFO - Chain [1] done processing\n",
      "10:37:38 - cmdstanpy - INFO - Chain [1] start processing\n",
      "10:37:38 - cmdstanpy - INFO - Chain [1] done processing\n"
     ]
    },
    {
     "name": "stdout",
     "output_type": "stream",
     "text": [
      "Testé: cps=0.01, sps=10.0, mode=multiplicative, nb=30 ➤ MAPE=0.0528\n"
     ]
    },
    {
     "name": "stderr",
     "output_type": "stream",
     "text": [
      "10:37:40 - cmdstanpy - INFO - Chain [1] start processing\n",
      "10:37:41 - cmdstanpy - INFO - Chain [1] start processing\n",
      "10:37:41 - cmdstanpy - INFO - Chain [1] start processing\n",
      "10:37:41 - cmdstanpy - INFO - Chain [1] start processing\n",
      "10:37:41 - cmdstanpy - INFO - Chain [1] start processing\n",
      "10:37:41 - cmdstanpy - INFO - Chain [1] start processing\n",
      "10:37:41 - cmdstanpy - INFO - Chain [1] done processing\n",
      "10:37:41 - cmdstanpy - INFO - Chain [1] done processing\n",
      "10:37:41 - cmdstanpy - INFO - Chain [1] done processing\n",
      "10:37:41 - cmdstanpy - INFO - Chain [1] done processing\n",
      "10:37:41 - cmdstanpy - INFO - Chain [1] done processing\n",
      "10:37:41 - cmdstanpy - INFO - Chain [1] done processing\n",
      "10:37:41 - cmdstanpy - INFO - Chain [1] start processing\n",
      "10:37:42 - cmdstanpy - INFO - Chain [1] done processing\n"
     ]
    },
    {
     "name": "stdout",
     "output_type": "stream",
     "text": [
      "Testé: cps=0.01, sps=10.0, mode=multiplicative, nb=50 ➤ MAPE=0.0540\n"
     ]
    },
    {
     "name": "stderr",
     "output_type": "stream",
     "text": [
      "10:37:43 - cmdstanpy - INFO - Chain [1] start processing\n",
      "10:37:43 - cmdstanpy - INFO - Chain [1] done processing\n",
      "10:37:43 - cmdstanpy - INFO - Chain [1] start processing\n",
      "10:37:43 - cmdstanpy - INFO - Chain [1] start processing\n",
      "10:37:43 - cmdstanpy - INFO - Chain [1] start processing\n",
      "10:37:43 - cmdstanpy - INFO - Chain [1] start processing\n",
      "10:37:43 - cmdstanpy - INFO - Chain [1] start processing\n",
      "10:37:43 - cmdstanpy - INFO - Chain [1] done processing\n",
      "10:37:43 - cmdstanpy - ERROR - Chain [1] error: error during processing Operation not permitted\n",
      "Optimization terminated abnormally. Falling back to Newton.\n",
      "10:37:43 - cmdstanpy - INFO - Chain [1] start processing\n",
      "10:37:44 - cmdstanpy - INFO - Chain [1] done processing\n",
      "10:37:44 - cmdstanpy - INFO - Chain [1] done processing\n",
      "10:37:44 - cmdstanpy - INFO - Chain [1] done processing\n",
      "10:37:45 - cmdstanpy - INFO - Chain [1] done processing\n",
      "10:37:45 - cmdstanpy - INFO - Chain [1] done processing\n",
      "10:37:45 - cmdstanpy - INFO - Chain [1] start processing\n",
      "10:37:45 - cmdstanpy - INFO - Chain [1] done processing\n"
     ]
    },
    {
     "name": "stdout",
     "output_type": "stream",
     "text": [
      "Testé: cps=0.01, sps=10.0, mode=multiplicative, nb=70 ➤ MAPE=0.0519\n"
     ]
    },
    {
     "name": "stderr",
     "output_type": "stream",
     "text": [
      "10:37:47 - cmdstanpy - INFO - Chain [1] start processing\n",
      "10:37:47 - cmdstanpy - INFO - Chain [1] start processing\n",
      "10:37:47 - cmdstanpy - INFO - Chain [1] start processing\n",
      "10:37:47 - cmdstanpy - INFO - Chain [1] start processing\n",
      "10:37:47 - cmdstanpy - INFO - Chain [1] start processing\n",
      "10:37:47 - cmdstanpy - INFO - Chain [1] start processing\n",
      "10:37:47 - cmdstanpy - INFO - Chain [1] done processing\n",
      "10:37:47 - cmdstanpy - INFO - Chain [1] done processing\n",
      "10:37:47 - cmdstanpy - INFO - Chain [1] done processing\n",
      "10:37:48 - cmdstanpy - INFO - Chain [1] done processing\n",
      "10:37:48 - cmdstanpy - INFO - Chain [1] done processing\n",
      "10:37:48 - cmdstanpy - INFO - Chain [1] done processing\n",
      "10:37:48 - cmdstanpy - INFO - Chain [1] start processing\n",
      "10:37:48 - cmdstanpy - INFO - Chain [1] done processing\n"
     ]
    },
    {
     "name": "stdout",
     "output_type": "stream",
     "text": [
      "Testé: cps=0.05, sps=1.0, mode=multiplicative, nb=10 ➤ MAPE=0.0549\n"
     ]
    },
    {
     "name": "stderr",
     "output_type": "stream",
     "text": [
      "10:37:50 - cmdstanpy - INFO - Chain [1] start processing\n",
      "10:37:50 - cmdstanpy - INFO - Chain [1] start processing\n",
      "10:37:50 - cmdstanpy - INFO - Chain [1] start processing\n",
      "10:37:50 - cmdstanpy - INFO - Chain [1] start processing\n",
      "10:37:50 - cmdstanpy - INFO - Chain [1] start processing\n",
      "10:37:50 - cmdstanpy - INFO - Chain [1] start processing\n",
      "10:37:50 - cmdstanpy - INFO - Chain [1] done processing\n",
      "10:37:50 - cmdstanpy - INFO - Chain [1] done processing\n",
      "10:37:50 - cmdstanpy - INFO - Chain [1] done processing\n",
      "10:37:50 - cmdstanpy - INFO - Chain [1] done processing\n",
      "10:37:50 - cmdstanpy - INFO - Chain [1] done processing\n",
      "10:37:50 - cmdstanpy - INFO - Chain [1] done processing\n",
      "10:37:50 - cmdstanpy - INFO - Chain [1] start processing\n",
      "10:37:50 - cmdstanpy - INFO - Chain [1] done processing\n"
     ]
    },
    {
     "name": "stdout",
     "output_type": "stream",
     "text": [
      "Testé: cps=0.05, sps=1.0, mode=multiplicative, nb=20 ➤ MAPE=0.0543\n"
     ]
    },
    {
     "name": "stderr",
     "output_type": "stream",
     "text": [
      "10:37:52 - cmdstanpy - INFO - Chain [1] start processing\n",
      "10:37:52 - cmdstanpy - INFO - Chain [1] start processing\n",
      "10:37:53 - cmdstanpy - INFO - Chain [1] start processing\n",
      "10:37:53 - cmdstanpy - INFO - Chain [1] start processing\n",
      "10:37:53 - cmdstanpy - INFO - Chain [1] done processing\n",
      "10:37:53 - cmdstanpy - INFO - Chain [1] start processing\n",
      "10:37:53 - cmdstanpy - INFO - Chain [1] start processing\n",
      "10:37:53 - cmdstanpy - INFO - Chain [1] done processing\n",
      "10:37:53 - cmdstanpy - INFO - Chain [1] done processing\n",
      "10:37:53 - cmdstanpy - INFO - Chain [1] done processing\n",
      "10:37:53 - cmdstanpy - INFO - Chain [1] done processing\n",
      "10:37:53 - cmdstanpy - INFO - Chain [1] done processing\n",
      "10:37:53 - cmdstanpy - INFO - Chain [1] start processing\n",
      "10:37:53 - cmdstanpy - INFO - Chain [1] done processing\n"
     ]
    },
    {
     "name": "stdout",
     "output_type": "stream",
     "text": [
      "Testé: cps=0.05, sps=1.0, mode=multiplicative, nb=30 ➤ MAPE=0.0538\n"
     ]
    },
    {
     "name": "stderr",
     "output_type": "stream",
     "text": [
      "10:37:56 - cmdstanpy - INFO - Chain [1] start processing\n",
      "10:37:56 - cmdstanpy - INFO - Chain [1] start processing\n",
      "10:37:56 - cmdstanpy - INFO - Chain [1] start processing\n",
      "10:37:56 - cmdstanpy - INFO - Chain [1] start processing\n",
      "10:37:56 - cmdstanpy - INFO - Chain [1] start processing\n",
      "10:37:56 - cmdstanpy - INFO - Chain [1] done processing\n",
      "10:37:56 - cmdstanpy - INFO - Chain [1] start processing\n",
      "10:37:56 - cmdstanpy - INFO - Chain [1] done processing\n",
      "10:37:56 - cmdstanpy - INFO - Chain [1] done processing\n",
      "10:37:56 - cmdstanpy - INFO - Chain [1] done processing\n",
      "10:37:57 - cmdstanpy - INFO - Chain [1] done processing\n",
      "10:37:57 - cmdstanpy - INFO - Chain [1] done processing\n",
      "10:37:57 - cmdstanpy - INFO - Chain [1] start processing\n",
      "10:37:57 - cmdstanpy - INFO - Chain [1] done processing\n"
     ]
    },
    {
     "name": "stdout",
     "output_type": "stream",
     "text": [
      "Testé: cps=0.05, sps=1.0, mode=multiplicative, nb=50 ➤ MAPE=0.0529\n"
     ]
    },
    {
     "name": "stderr",
     "output_type": "stream",
     "text": [
      "10:37:59 - cmdstanpy - INFO - Chain [1] start processing\n",
      "10:37:59 - cmdstanpy - INFO - Chain [1] start processing\n",
      "10:37:59 - cmdstanpy - INFO - Chain [1] start processing\n",
      "10:37:59 - cmdstanpy - INFO - Chain [1] start processing\n",
      "10:37:59 - cmdstanpy - INFO - Chain [1] start processing\n",
      "10:37:59 - cmdstanpy - INFO - Chain [1] start processing\n",
      "10:37:59 - cmdstanpy - INFO - Chain [1] done processing\n",
      "10:37:59 - cmdstanpy - INFO - Chain [1] done processing\n",
      "10:38:00 - cmdstanpy - INFO - Chain [1] done processing\n",
      "10:38:00 - cmdstanpy - INFO - Chain [1] done processing\n",
      "10:38:01 - cmdstanpy - INFO - Chain [1] done processing\n",
      "10:38:01 - cmdstanpy - INFO - Chain [1] done processing\n",
      "10:38:01 - cmdstanpy - INFO - Chain [1] start processing\n",
      "10:38:01 - cmdstanpy - INFO - Chain [1] done processing\n"
     ]
    },
    {
     "name": "stdout",
     "output_type": "stream",
     "text": [
      "Testé: cps=0.05, sps=1.0, mode=multiplicative, nb=70 ➤ MAPE=0.0528\n"
     ]
    },
    {
     "name": "stderr",
     "output_type": "stream",
     "text": [
      "10:38:04 - cmdstanpy - INFO - Chain [1] start processing\n",
      "10:38:04 - cmdstanpy - INFO - Chain [1] start processing\n",
      "10:38:04 - cmdstanpy - INFO - Chain [1] start processing\n",
      "10:38:04 - cmdstanpy - INFO - Chain [1] start processing\n",
      "10:38:04 - cmdstanpy - INFO - Chain [1] start processing\n",
      "10:38:04 - cmdstanpy - INFO - Chain [1] start processing\n",
      "10:38:04 - cmdstanpy - INFO - Chain [1] done processing\n",
      "10:38:04 - cmdstanpy - INFO - Chain [1] done processing\n",
      "10:38:04 - cmdstanpy - INFO - Chain [1] done processing\n",
      "10:38:04 - cmdstanpy - INFO - Chain [1] done processing\n",
      "10:38:04 - cmdstanpy - INFO - Chain [1] done processing\n",
      "10:38:04 - cmdstanpy - INFO - Chain [1] done processing\n",
      "10:38:04 - cmdstanpy - INFO - Chain [1] start processing\n",
      "10:38:04 - cmdstanpy - INFO - Chain [1] done processing\n"
     ]
    },
    {
     "name": "stdout",
     "output_type": "stream",
     "text": [
      "Testé: cps=0.05, sps=5.0, mode=multiplicative, nb=10 ➤ MAPE=0.0550\n"
     ]
    },
    {
     "name": "stderr",
     "output_type": "stream",
     "text": [
      "10:38:07 - cmdstanpy - INFO - Chain [1] start processing\n",
      "10:38:07 - cmdstanpy - INFO - Chain [1] start processing\n",
      "10:38:07 - cmdstanpy - INFO - Chain [1] start processing\n",
      "10:38:07 - cmdstanpy - INFO - Chain [1] start processing\n",
      "10:38:07 - cmdstanpy - INFO - Chain [1] done processing\n",
      "10:38:07 - cmdstanpy - INFO - Chain [1] start processing\n",
      "10:38:07 - cmdstanpy - INFO - Chain [1] start processing\n",
      "10:38:07 - cmdstanpy - INFO - Chain [1] done processing\n",
      "10:38:07 - cmdstanpy - INFO - Chain [1] done processing\n",
      "10:38:07 - cmdstanpy - INFO - Chain [1] done processing\n",
      "10:38:07 - cmdstanpy - INFO - Chain [1] done processing\n",
      "10:38:07 - cmdstanpy - INFO - Chain [1] done processing\n",
      "10:38:07 - cmdstanpy - INFO - Chain [1] start processing\n",
      "10:38:07 - cmdstanpy - INFO - Chain [1] done processing\n"
     ]
    },
    {
     "name": "stdout",
     "output_type": "stream",
     "text": [
      "Testé: cps=0.05, sps=5.0, mode=multiplicative, nb=20 ➤ MAPE=0.0546\n"
     ]
    },
    {
     "name": "stderr",
     "output_type": "stream",
     "text": [
      "10:38:10 - cmdstanpy - INFO - Chain [1] start processing\n",
      "10:38:10 - cmdstanpy - INFO - Chain [1] start processing\n",
      "10:38:10 - cmdstanpy - INFO - Chain [1] start processing\n",
      "10:38:10 - cmdstanpy - INFO - Chain [1] start processing\n",
      "10:38:10 - cmdstanpy - INFO - Chain [1] start processing\n",
      "10:38:10 - cmdstanpy - INFO - Chain [1] start processing\n",
      "10:38:10 - cmdstanpy - INFO - Chain [1] done processing\n",
      "10:38:10 - cmdstanpy - INFO - Chain [1] done processing\n",
      "10:38:11 - cmdstanpy - INFO - Chain [1] done processing\n",
      "10:38:11 - cmdstanpy - INFO - Chain [1] done processing\n",
      "10:38:11 - cmdstanpy - INFO - Chain [1] done processing\n",
      "10:38:11 - cmdstanpy - INFO - Chain [1] done processing\n",
      "10:38:11 - cmdstanpy - INFO - Chain [1] start processing\n",
      "10:38:11 - cmdstanpy - INFO - Chain [1] done processing\n"
     ]
    },
    {
     "name": "stdout",
     "output_type": "stream",
     "text": [
      "Testé: cps=0.05, sps=5.0, mode=multiplicative, nb=30 ➤ MAPE=0.0538\n"
     ]
    },
    {
     "name": "stderr",
     "output_type": "stream",
     "text": [
      "10:38:14 - cmdstanpy - INFO - Chain [1] start processing\n",
      "10:38:14 - cmdstanpy - INFO - Chain [1] start processing\n",
      "10:38:14 - cmdstanpy - INFO - Chain [1] start processing\n",
      "10:38:14 - cmdstanpy - INFO - Chain [1] start processing\n",
      "10:38:14 - cmdstanpy - INFO - Chain [1] start processing\n",
      "10:38:14 - cmdstanpy - INFO - Chain [1] done processing\n",
      "10:38:14 - cmdstanpy - INFO - Chain [1] start processing\n",
      "10:38:14 - cmdstanpy - INFO - Chain [1] done processing\n",
      "10:38:15 - cmdstanpy - INFO - Chain [1] done processing\n",
      "10:38:15 - cmdstanpy - INFO - Chain [1] done processing\n",
      "10:38:15 - cmdstanpy - INFO - Chain [1] done processing\n",
      "10:38:16 - cmdstanpy - INFO - Chain [1] done processing\n",
      "10:38:16 - cmdstanpy - INFO - Chain [1] start processing\n",
      "10:38:16 - cmdstanpy - INFO - Chain [1] done processing\n"
     ]
    },
    {
     "name": "stdout",
     "output_type": "stream",
     "text": [
      "Testé: cps=0.05, sps=5.0, mode=multiplicative, nb=50 ➤ MAPE=0.0538\n"
     ]
    },
    {
     "name": "stderr",
     "output_type": "stream",
     "text": [
      "10:38:18 - cmdstanpy - INFO - Chain [1] start processing\n",
      "10:38:18 - cmdstanpy - INFO - Chain [1] start processing\n",
      "10:38:18 - cmdstanpy - INFO - Chain [1] start processing\n",
      "10:38:18 - cmdstanpy - INFO - Chain [1] start processing\n",
      "10:38:18 - cmdstanpy - INFO - Chain [1] start processing\n",
      "10:38:18 - cmdstanpy - INFO - Chain [1] start processing\n",
      "10:38:18 - cmdstanpy - INFO - Chain [1] done processing\n",
      "10:38:18 - cmdstanpy - INFO - Chain [1] done processing\n",
      "10:38:19 - cmdstanpy - INFO - Chain [1] done processing\n",
      "10:38:19 - cmdstanpy - INFO - Chain [1] done processing\n",
      "10:38:20 - cmdstanpy - INFO - Chain [1] done processing\n",
      "10:38:21 - cmdstanpy - INFO - Chain [1] done processing\n",
      "10:38:21 - cmdstanpy - INFO - Chain [1] start processing\n",
      "10:38:21 - cmdstanpy - INFO - Chain [1] done processing\n"
     ]
    },
    {
     "name": "stdout",
     "output_type": "stream",
     "text": [
      "Testé: cps=0.05, sps=5.0, mode=multiplicative, nb=70 ➤ MAPE=0.0540\n"
     ]
    },
    {
     "name": "stderr",
     "output_type": "stream",
     "text": [
      "10:38:23 - cmdstanpy - INFO - Chain [1] start processing\n",
      "10:38:23 - cmdstanpy - INFO - Chain [1] start processing\n",
      "10:38:23 - cmdstanpy - INFO - Chain [1] start processing\n",
      "10:38:23 - cmdstanpy - INFO - Chain [1] start processing\n",
      "10:38:23 - cmdstanpy - INFO - Chain [1] start processing\n",
      "10:38:23 - cmdstanpy - INFO - Chain [1] done processing\n",
      "10:38:23 - cmdstanpy - INFO - Chain [1] start processing\n",
      "10:38:23 - cmdstanpy - INFO - Chain [1] done processing\n",
      "10:38:23 - cmdstanpy - INFO - Chain [1] done processing\n",
      "10:38:23 - cmdstanpy - INFO - Chain [1] done processing\n",
      "10:38:23 - cmdstanpy - INFO - Chain [1] done processing\n",
      "10:38:24 - cmdstanpy - INFO - Chain [1] done processing\n",
      "10:38:24 - cmdstanpy - INFO - Chain [1] start processing\n",
      "10:38:24 - cmdstanpy - INFO - Chain [1] done processing\n"
     ]
    },
    {
     "name": "stdout",
     "output_type": "stream",
     "text": [
      "Testé: cps=0.05, sps=10.0, mode=multiplicative, nb=10 ➤ MAPE=0.0549\n"
     ]
    },
    {
     "name": "stderr",
     "output_type": "stream",
     "text": [
      "10:38:26 - cmdstanpy - INFO - Chain [1] start processing\n",
      "10:38:26 - cmdstanpy - INFO - Chain [1] start processing\n",
      "10:38:26 - cmdstanpy - INFO - Chain [1] start processing\n",
      "10:38:26 - cmdstanpy - INFO - Chain [1] start processing\n",
      "10:38:26 - cmdstanpy - INFO - Chain [1] start processing\n",
      "10:38:26 - cmdstanpy - INFO - Chain [1] start processing\n",
      "10:38:26 - cmdstanpy - INFO - Chain [1] done processing\n",
      "10:38:26 - cmdstanpy - INFO - Chain [1] done processing\n",
      "10:38:27 - cmdstanpy - INFO - Chain [1] done processing\n",
      "10:38:27 - cmdstanpy - INFO - Chain [1] done processing\n",
      "10:38:27 - cmdstanpy - INFO - Chain [1] done processing\n",
      "10:38:27 - cmdstanpy - INFO - Chain [1] done processing\n",
      "10:38:27 - cmdstanpy - INFO - Chain [1] start processing\n",
      "10:38:27 - cmdstanpy - INFO - Chain [1] done processing\n"
     ]
    },
    {
     "name": "stdout",
     "output_type": "stream",
     "text": [
      "Testé: cps=0.05, sps=10.0, mode=multiplicative, nb=20 ➤ MAPE=0.0540\n"
     ]
    },
    {
     "name": "stderr",
     "output_type": "stream",
     "text": [
      "10:38:30 - cmdstanpy - INFO - Chain [1] start processing\n",
      "10:38:30 - cmdstanpy - INFO - Chain [1] start processing\n",
      "10:38:30 - cmdstanpy - INFO - Chain [1] start processing\n",
      "10:38:30 - cmdstanpy - INFO - Chain [1] start processing\n",
      "10:38:30 - cmdstanpy - INFO - Chain [1] start processing\n",
      "10:38:30 - cmdstanpy - INFO - Chain [1] done processing\n",
      "10:38:30 - cmdstanpy - INFO - Chain [1] start processing\n",
      "10:38:30 - cmdstanpy - INFO - Chain [1] done processing\n",
      "10:38:30 - cmdstanpy - INFO - Chain [1] done processing\n",
      "10:38:30 - cmdstanpy - INFO - Chain [1] done processing\n",
      "10:38:30 - cmdstanpy - INFO - Chain [1] done processing\n",
      "10:38:31 - cmdstanpy - INFO - Chain [1] done processing\n",
      "10:38:31 - cmdstanpy - INFO - Chain [1] start processing\n",
      "10:38:31 - cmdstanpy - INFO - Chain [1] done processing\n"
     ]
    },
    {
     "name": "stdout",
     "output_type": "stream",
     "text": [
      "Testé: cps=0.05, sps=10.0, mode=multiplicative, nb=30 ➤ MAPE=0.0548\n"
     ]
    },
    {
     "name": "stderr",
     "output_type": "stream",
     "text": [
      "10:38:33 - cmdstanpy - INFO - Chain [1] start processing\n",
      "10:38:33 - cmdstanpy - INFO - Chain [1] start processing\n",
      "10:38:33 - cmdstanpy - INFO - Chain [1] start processing\n",
      "10:38:33 - cmdstanpy - INFO - Chain [1] start processing\n",
      "10:38:33 - cmdstanpy - INFO - Chain [1] start processing\n",
      "10:38:33 - cmdstanpy - INFO - Chain [1] done processing\n",
      "10:38:34 - cmdstanpy - INFO - Chain [1] start processing\n",
      "10:38:34 - cmdstanpy - INFO - Chain [1] done processing\n",
      "10:38:34 - cmdstanpy - INFO - Chain [1] done processing\n",
      "10:38:34 - cmdstanpy - INFO - Chain [1] done processing\n",
      "10:38:34 - cmdstanpy - INFO - Chain [1] done processing\n",
      "10:38:35 - cmdstanpy - INFO - Chain [1] done processing\n",
      "10:38:35 - cmdstanpy - INFO - Chain [1] start processing\n",
      "10:38:35 - cmdstanpy - INFO - Chain [1] done processing\n"
     ]
    },
    {
     "name": "stdout",
     "output_type": "stream",
     "text": [
      "Testé: cps=0.05, sps=10.0, mode=multiplicative, nb=50 ➤ MAPE=0.0539\n"
     ]
    },
    {
     "name": "stderr",
     "output_type": "stream",
     "text": [
      "10:38:37 - cmdstanpy - INFO - Chain [1] start processing\n",
      "10:38:37 - cmdstanpy - INFO - Chain [1] start processing\n",
      "10:38:37 - cmdstanpy - INFO - Chain [1] start processing\n",
      "10:38:37 - cmdstanpy - INFO - Chain [1] start processing\n",
      "10:38:37 - cmdstanpy - INFO - Chain [1] start processing\n",
      "10:38:37 - cmdstanpy - INFO - Chain [1] done processing\n",
      "10:38:37 - cmdstanpy - INFO - Chain [1] start processing\n",
      "10:38:37 - cmdstanpy - INFO - Chain [1] done processing\n",
      "10:38:38 - cmdstanpy - INFO - Chain [1] done processing\n",
      "10:38:39 - cmdstanpy - INFO - Chain [1] done processing\n",
      "10:38:39 - cmdstanpy - INFO - Chain [1] done processing\n",
      "10:38:40 - cmdstanpy - INFO - Chain [1] done processing\n",
      "10:38:40 - cmdstanpy - INFO - Chain [1] start processing\n",
      "10:38:40 - cmdstanpy - INFO - Chain [1] done processing\n"
     ]
    },
    {
     "name": "stdout",
     "output_type": "stream",
     "text": [
      "Testé: cps=0.05, sps=10.0, mode=multiplicative, nb=70 ➤ MAPE=0.0535\n"
     ]
    },
    {
     "name": "stderr",
     "output_type": "stream",
     "text": [
      "10:38:43 - cmdstanpy - INFO - Chain [1] start processing\n",
      "10:38:43 - cmdstanpy - INFO - Chain [1] start processing\n",
      "10:38:43 - cmdstanpy - INFO - Chain [1] done processing\n",
      "10:38:43 - cmdstanpy - INFO - Chain [1] start processing\n",
      "10:38:43 - cmdstanpy - INFO - Chain [1] start processing\n",
      "10:38:43 - cmdstanpy - INFO - Chain [1] start processing\n",
      "10:38:43 - cmdstanpy - INFO - Chain [1] start processing\n",
      "10:38:43 - cmdstanpy - INFO - Chain [1] done processing\n",
      "10:38:43 - cmdstanpy - INFO - Chain [1] done processing\n",
      "10:38:43 - cmdstanpy - INFO - Chain [1] done processing\n",
      "10:38:43 - cmdstanpy - INFO - Chain [1] done processing\n",
      "10:38:43 - cmdstanpy - INFO - Chain [1] done processing\n",
      "10:38:43 - cmdstanpy - INFO - Chain [1] start processing\n",
      "10:38:43 - cmdstanpy - INFO - Chain [1] done processing\n"
     ]
    },
    {
     "name": "stdout",
     "output_type": "stream",
     "text": [
      "Testé: cps=0.1, sps=1.0, mode=multiplicative, nb=10 ➤ MAPE=0.0550\n"
     ]
    },
    {
     "name": "stderr",
     "output_type": "stream",
     "text": [
      "10:38:46 - cmdstanpy - INFO - Chain [1] start processing\n",
      "10:38:46 - cmdstanpy - INFO - Chain [1] start processing\n",
      "10:38:46 - cmdstanpy - INFO - Chain [1] start processing\n",
      "10:38:46 - cmdstanpy - INFO - Chain [1] start processing\n",
      "10:38:46 - cmdstanpy - INFO - Chain [1] start processing\n",
      "10:38:46 - cmdstanpy - INFO - Chain [1] start processing\n",
      "10:38:46 - cmdstanpy - INFO - Chain [1] done processing\n",
      "10:38:46 - cmdstanpy - INFO - Chain [1] done processing\n",
      "10:38:47 - cmdstanpy - INFO - Chain [1] done processing\n",
      "10:38:47 - cmdstanpy - INFO - Chain [1] done processing\n",
      "10:38:47 - cmdstanpy - INFO - Chain [1] done processing\n",
      "10:38:47 - cmdstanpy - INFO - Chain [1] done processing\n",
      "10:38:47 - cmdstanpy - INFO - Chain [1] start processing\n",
      "10:38:47 - cmdstanpy - INFO - Chain [1] done processing\n"
     ]
    },
    {
     "name": "stdout",
     "output_type": "stream",
     "text": [
      "Testé: cps=0.1, sps=1.0, mode=multiplicative, nb=20 ➤ MAPE=0.0550\n"
     ]
    },
    {
     "name": "stderr",
     "output_type": "stream",
     "text": [
      "10:38:49 - cmdstanpy - INFO - Chain [1] start processing\n",
      "10:38:49 - cmdstanpy - INFO - Chain [1] start processing\n",
      "10:38:49 - cmdstanpy - INFO - Chain [1] start processing\n",
      "10:38:49 - cmdstanpy - INFO - Chain [1] start processing\n",
      "10:38:49 - cmdstanpy - INFO - Chain [1] done processing\n",
      "10:38:49 - cmdstanpy - INFO - Chain [1] start processing\n",
      "10:38:49 - cmdstanpy - INFO - Chain [1] start processing\n",
      "10:38:49 - cmdstanpy - INFO - Chain [1] done processing\n",
      "10:38:50 - cmdstanpy - INFO - Chain [1] done processing\n",
      "10:38:50 - cmdstanpy - INFO - Chain [1] done processing\n",
      "10:38:50 - cmdstanpy - INFO - Chain [1] done processing\n",
      "10:38:50 - cmdstanpy - INFO - Chain [1] done processing\n",
      "10:38:50 - cmdstanpy - INFO - Chain [1] start processing\n",
      "10:38:50 - cmdstanpy - INFO - Chain [1] done processing\n"
     ]
    },
    {
     "name": "stdout",
     "output_type": "stream",
     "text": [
      "Testé: cps=0.1, sps=1.0, mode=multiplicative, nb=30 ➤ MAPE=0.0545\n"
     ]
    },
    {
     "name": "stderr",
     "output_type": "stream",
     "text": [
      "10:38:52 - cmdstanpy - INFO - Chain [1] start processing\n",
      "10:38:52 - cmdstanpy - INFO - Chain [1] start processing\n",
      "10:38:52 - cmdstanpy - INFO - Chain [1] start processing\n",
      "10:38:52 - cmdstanpy - INFO - Chain [1] start processing\n",
      "10:38:52 - cmdstanpy - INFO - Chain [1] done processing\n",
      "10:38:53 - cmdstanpy - INFO - Chain [1] start processing\n",
      "10:38:53 - cmdstanpy - INFO - Chain [1] start processing\n",
      "10:38:53 - cmdstanpy - INFO - Chain [1] done processing\n",
      "10:38:53 - cmdstanpy - INFO - Chain [1] done processing\n",
      "10:38:53 - cmdstanpy - INFO - Chain [1] done processing\n",
      "10:38:54 - cmdstanpy - INFO - Chain [1] done processing\n",
      "10:38:54 - cmdstanpy - INFO - Chain [1] done processing\n",
      "10:38:54 - cmdstanpy - INFO - Chain [1] start processing\n",
      "10:38:54 - cmdstanpy - INFO - Chain [1] done processing\n"
     ]
    },
    {
     "name": "stdout",
     "output_type": "stream",
     "text": [
      "Testé: cps=0.1, sps=1.0, mode=multiplicative, nb=50 ➤ MAPE=0.0542\n"
     ]
    },
    {
     "name": "stderr",
     "output_type": "stream",
     "text": [
      "10:38:56 - cmdstanpy - INFO - Chain [1] start processing\n",
      "10:38:56 - cmdstanpy - INFO - Chain [1] start processing\n",
      "10:38:56 - cmdstanpy - INFO - Chain [1] start processing\n",
      "10:38:56 - cmdstanpy - INFO - Chain [1] start processing\n",
      "10:38:56 - cmdstanpy - INFO - Chain [1] start processing\n",
      "10:38:56 - cmdstanpy - INFO - Chain [1] start processing\n",
      "10:38:56 - cmdstanpy - INFO - Chain [1] done processing\n",
      "10:38:56 - cmdstanpy - INFO - Chain [1] done processing\n",
      "10:38:57 - cmdstanpy - INFO - Chain [1] done processing\n",
      "10:38:57 - cmdstanpy - INFO - Chain [1] done processing\n",
      "10:38:58 - cmdstanpy - INFO - Chain [1] done processing\n",
      "10:38:58 - cmdstanpy - INFO - Chain [1] done processing\n",
      "10:38:58 - cmdstanpy - INFO - Chain [1] start processing\n",
      "10:38:58 - cmdstanpy - INFO - Chain [1] done processing\n"
     ]
    },
    {
     "name": "stdout",
     "output_type": "stream",
     "text": [
      "Testé: cps=0.1, sps=1.0, mode=multiplicative, nb=70 ➤ MAPE=0.0539\n"
     ]
    },
    {
     "name": "stderr",
     "output_type": "stream",
     "text": [
      "10:39:01 - cmdstanpy - INFO - Chain [1] start processing\n",
      "10:39:01 - cmdstanpy - INFO - Chain [1] start processing\n",
      "10:39:01 - cmdstanpy - INFO - Chain [1] start processing\n",
      "10:39:01 - cmdstanpy - INFO - Chain [1] start processing\n",
      "10:39:01 - cmdstanpy - INFO - Chain [1] done processing\n",
      "10:39:01 - cmdstanpy - INFO - Chain [1] start processing\n",
      "10:39:01 - cmdstanpy - INFO - Chain [1] done processing\n",
      "10:39:01 - cmdstanpy - INFO - Chain [1] start processing\n",
      "10:39:01 - cmdstanpy - INFO - Chain [1] done processing\n",
      "10:39:01 - cmdstanpy - INFO - Chain [1] done processing\n",
      "10:39:01 - cmdstanpy - INFO - Chain [1] done processing\n",
      "10:39:01 - cmdstanpy - INFO - Chain [1] done processing\n",
      "10:39:01 - cmdstanpy - INFO - Chain [1] start processing\n",
      "10:39:01 - cmdstanpy - INFO - Chain [1] done processing\n"
     ]
    },
    {
     "name": "stdout",
     "output_type": "stream",
     "text": [
      "Testé: cps=0.1, sps=5.0, mode=multiplicative, nb=10 ➤ MAPE=0.0552\n"
     ]
    },
    {
     "name": "stderr",
     "output_type": "stream",
     "text": [
      "10:39:04 - cmdstanpy - INFO - Chain [1] start processing\n",
      "10:39:04 - cmdstanpy - INFO - Chain [1] start processing\n",
      "10:39:04 - cmdstanpy - INFO - Chain [1] start processing\n",
      "10:39:04 - cmdstanpy - INFO - Chain [1] done processing\n",
      "10:39:04 - cmdstanpy - INFO - Chain [1] start processing\n",
      "10:39:04 - cmdstanpy - INFO - Chain [1] start processing\n",
      "10:39:04 - cmdstanpy - INFO - Chain [1] done processing\n",
      "10:39:04 - cmdstanpy - INFO - Chain [1] start processing\n",
      "10:39:04 - cmdstanpy - INFO - Chain [1] done processing\n",
      "10:39:04 - cmdstanpy - INFO - Chain [1] done processing\n",
      "10:39:04 - cmdstanpy - INFO - Chain [1] done processing\n",
      "10:39:04 - cmdstanpy - INFO - Chain [1] done processing\n",
      "10:39:04 - cmdstanpy - INFO - Chain [1] start processing\n",
      "10:39:04 - cmdstanpy - INFO - Chain [1] done processing\n"
     ]
    },
    {
     "name": "stdout",
     "output_type": "stream",
     "text": [
      "Testé: cps=0.1, sps=5.0, mode=multiplicative, nb=20 ➤ MAPE=0.0549\n"
     ]
    },
    {
     "name": "stderr",
     "output_type": "stream",
     "text": [
      "10:39:07 - cmdstanpy - INFO - Chain [1] start processing\n",
      "10:39:07 - cmdstanpy - INFO - Chain [1] start processing\n",
      "10:39:07 - cmdstanpy - INFO - Chain [1] start processing\n",
      "10:39:07 - cmdstanpy - INFO - Chain [1] start processing\n",
      "10:39:07 - cmdstanpy - INFO - Chain [1] start processing\n",
      "10:39:07 - cmdstanpy - INFO - Chain [1] start processing\n",
      "10:39:07 - cmdstanpy - INFO - Chain [1] done processing\n",
      "10:39:07 - cmdstanpy - INFO - Chain [1] done processing\n",
      "10:39:07 - cmdstanpy - INFO - Chain [1] done processing\n",
      "10:39:07 - cmdstanpy - INFO - Chain [1] done processing\n",
      "10:39:08 - cmdstanpy - INFO - Chain [1] done processing\n",
      "10:39:08 - cmdstanpy - INFO - Chain [1] done processing\n",
      "10:39:08 - cmdstanpy - INFO - Chain [1] start processing\n",
      "10:39:08 - cmdstanpy - INFO - Chain [1] done processing\n"
     ]
    },
    {
     "name": "stdout",
     "output_type": "stream",
     "text": [
      "Testé: cps=0.1, sps=5.0, mode=multiplicative, nb=30 ➤ MAPE=0.0545\n"
     ]
    },
    {
     "name": "stderr",
     "output_type": "stream",
     "text": [
      "10:39:10 - cmdstanpy - INFO - Chain [1] start processing\n",
      "10:39:10 - cmdstanpy - INFO - Chain [1] start processing\n",
      "10:39:10 - cmdstanpy - INFO - Chain [1] start processing\n",
      "10:39:10 - cmdstanpy - INFO - Chain [1] start processing\n",
      "10:39:10 - cmdstanpy - INFO - Chain [1] start processing\n",
      "10:39:10 - cmdstanpy - INFO - Chain [1] start processing\n",
      "10:39:10 - cmdstanpy - INFO - Chain [1] done processing\n",
      "10:39:10 - cmdstanpy - INFO - Chain [1] done processing\n",
      "10:39:11 - cmdstanpy - INFO - Chain [1] done processing\n",
      "10:39:11 - cmdstanpy - INFO - Chain [1] done processing\n",
      "10:39:11 - cmdstanpy - INFO - Chain [1] done processing\n",
      "10:39:12 - cmdstanpy - INFO - Chain [1] done processing\n",
      "10:39:12 - cmdstanpy - INFO - Chain [1] start processing\n",
      "10:39:12 - cmdstanpy - INFO - Chain [1] done processing\n"
     ]
    },
    {
     "name": "stdout",
     "output_type": "stream",
     "text": [
      "Testé: cps=0.1, sps=5.0, mode=multiplicative, nb=50 ➤ MAPE=0.0546\n"
     ]
    },
    {
     "name": "stderr",
     "output_type": "stream",
     "text": [
      "10:39:14 - cmdstanpy - INFO - Chain [1] start processing\n",
      "10:39:14 - cmdstanpy - INFO - Chain [1] start processing\n",
      "10:39:14 - cmdstanpy - INFO - Chain [1] start processing\n",
      "10:39:14 - cmdstanpy - INFO - Chain [1] done processing\n",
      "10:39:14 - cmdstanpy - INFO - Chain [1] done processing\n",
      "10:39:14 - cmdstanpy - INFO - Chain [1] start processing\n",
      "10:39:14 - cmdstanpy - INFO - Chain [1] start processing\n",
      "10:39:14 - cmdstanpy - INFO - Chain [1] start processing\n",
      "10:39:15 - cmdstanpy - INFO - Chain [1] done processing\n",
      "10:39:15 - cmdstanpy - INFO - Chain [1] done processing\n",
      "10:39:16 - cmdstanpy - INFO - Chain [1] done processing\n",
      "10:39:16 - cmdstanpy - INFO - Chain [1] done processing\n",
      "10:39:16 - cmdstanpy - INFO - Chain [1] start processing\n",
      "10:39:16 - cmdstanpy - INFO - Chain [1] done processing\n"
     ]
    },
    {
     "name": "stdout",
     "output_type": "stream",
     "text": [
      "Testé: cps=0.1, sps=5.0, mode=multiplicative, nb=70 ➤ MAPE=0.0535\n"
     ]
    },
    {
     "name": "stderr",
     "output_type": "stream",
     "text": [
      "10:39:18 - cmdstanpy - INFO - Chain [1] start processing\n",
      "10:39:19 - cmdstanpy - INFO - Chain [1] start processing\n",
      "10:39:19 - cmdstanpy - INFO - Chain [1] start processing\n",
      "10:39:19 - cmdstanpy - INFO - Chain [1] start processing\n",
      "10:39:19 - cmdstanpy - INFO - Chain [1] start processing\n",
      "10:39:19 - cmdstanpy - INFO - Chain [1] done processing\n",
      "10:39:19 - cmdstanpy - INFO - Chain [1] done processing\n",
      "10:39:19 - cmdstanpy - INFO - Chain [1] start processing\n",
      "10:39:19 - cmdstanpy - INFO - Chain [1] done processing\n",
      "10:39:19 - cmdstanpy - INFO - Chain [1] done processing\n",
      "10:39:19 - cmdstanpy - INFO - Chain [1] done processing\n",
      "10:39:19 - cmdstanpy - INFO - Chain [1] done processing\n",
      "10:39:19 - cmdstanpy - INFO - Chain [1] start processing\n",
      "10:39:19 - cmdstanpy - INFO - Chain [1] done processing\n"
     ]
    },
    {
     "name": "stdout",
     "output_type": "stream",
     "text": [
      "Testé: cps=0.1, sps=10.0, mode=multiplicative, nb=10 ➤ MAPE=0.0553\n"
     ]
    },
    {
     "name": "stderr",
     "output_type": "stream",
     "text": [
      "10:39:21 - cmdstanpy - INFO - Chain [1] start processing\n",
      "10:39:21 - cmdstanpy - INFO - Chain [1] start processing\n",
      "10:39:21 - cmdstanpy - INFO - Chain [1] start processing\n",
      "10:39:21 - cmdstanpy - INFO - Chain [1] start processing\n",
      "10:39:21 - cmdstanpy - INFO - Chain [1] start processing\n",
      "10:39:21 - cmdstanpy - INFO - Chain [1] start processing\n",
      "10:39:21 - cmdstanpy - INFO - Chain [1] done processing\n",
      "10:39:21 - cmdstanpy - INFO - Chain [1] done processing\n",
      "10:39:21 - cmdstanpy - INFO - Chain [1] done processing\n",
      "10:39:22 - cmdstanpy - INFO - Chain [1] done processing\n",
      "10:39:22 - cmdstanpy - INFO - Chain [1] done processing\n",
      "10:39:22 - cmdstanpy - INFO - Chain [1] done processing\n",
      "10:39:22 - cmdstanpy - INFO - Chain [1] start processing\n",
      "10:39:22 - cmdstanpy - INFO - Chain [1] done processing\n"
     ]
    },
    {
     "name": "stdout",
     "output_type": "stream",
     "text": [
      "Testé: cps=0.1, sps=10.0, mode=multiplicative, nb=20 ➤ MAPE=0.0547\n"
     ]
    },
    {
     "name": "stderr",
     "output_type": "stream",
     "text": [
      "10:39:24 - cmdstanpy - INFO - Chain [1] start processing\n",
      "10:39:24 - cmdstanpy - INFO - Chain [1] start processing\n",
      "10:39:24 - cmdstanpy - INFO - Chain [1] start processing\n",
      "10:39:24 - cmdstanpy - INFO - Chain [1] start processing\n",
      "10:39:24 - cmdstanpy - INFO - Chain [1] start processing\n",
      "10:39:24 - cmdstanpy - INFO - Chain [1] done processing\n",
      "10:39:24 - cmdstanpy - INFO - Chain [1] start processing\n",
      "10:39:24 - cmdstanpy - INFO - Chain [1] done processing\n",
      "10:39:24 - cmdstanpy - INFO - Chain [1] done processing\n",
      "10:39:24 - cmdstanpy - INFO - Chain [1] done processing\n",
      "10:39:24 - cmdstanpy - INFO - Chain [1] done processing\n",
      "10:39:24 - cmdstanpy - INFO - Chain [1] done processing\n",
      "10:39:25 - cmdstanpy - INFO - Chain [1] start processing\n",
      "10:39:25 - cmdstanpy - INFO - Chain [1] done processing\n"
     ]
    },
    {
     "name": "stdout",
     "output_type": "stream",
     "text": [
      "Testé: cps=0.1, sps=10.0, mode=multiplicative, nb=30 ➤ MAPE=0.0545\n"
     ]
    },
    {
     "name": "stderr",
     "output_type": "stream",
     "text": [
      "10:39:26 - cmdstanpy - INFO - Chain [1] start processing\n",
      "10:39:26 - cmdstanpy - INFO - Chain [1] start processing\n",
      "10:39:26 - cmdstanpy - INFO - Chain [1] start processing\n",
      "10:39:26 - cmdstanpy - INFO - Chain [1] done processing\n",
      "10:39:26 - cmdstanpy - INFO - Chain [1] start processing\n",
      "10:39:26 - cmdstanpy - INFO - Chain [1] start processing\n",
      "10:39:27 - cmdstanpy - INFO - Chain [1] start processing\n",
      "10:39:27 - cmdstanpy - INFO - Chain [1] done processing\n",
      "10:39:27 - cmdstanpy - INFO - Chain [1] done processing\n",
      "10:39:27 - cmdstanpy - INFO - Chain [1] done processing\n",
      "10:39:28 - cmdstanpy - INFO - Chain [1] done processing\n",
      "10:39:28 - cmdstanpy - INFO - Chain [1] done processing\n",
      "10:39:28 - cmdstanpy - INFO - Chain [1] start processing\n",
      "10:39:28 - cmdstanpy - INFO - Chain [1] done processing\n"
     ]
    },
    {
     "name": "stdout",
     "output_type": "stream",
     "text": [
      "Testé: cps=0.1, sps=10.0, mode=multiplicative, nb=50 ➤ MAPE=0.0546\n"
     ]
    },
    {
     "name": "stderr",
     "output_type": "stream",
     "text": [
      "10:39:30 - cmdstanpy - INFO - Chain [1] start processing\n",
      "10:39:30 - cmdstanpy - INFO - Chain [1] start processing\n",
      "10:39:30 - cmdstanpy - INFO - Chain [1] start processing\n",
      "10:39:30 - cmdstanpy - INFO - Chain [1] start processing\n",
      "10:39:30 - cmdstanpy - INFO - Chain [1] start processing\n",
      "10:39:30 - cmdstanpy - INFO - Chain [1] start processing\n",
      "10:39:30 - cmdstanpy - INFO - Chain [1] done processing\n",
      "10:39:30 - cmdstanpy - INFO - Chain [1] done processing\n",
      "10:39:31 - cmdstanpy - INFO - Chain [1] done processing\n",
      "10:39:31 - cmdstanpy - INFO - Chain [1] done processing\n",
      "10:39:31 - cmdstanpy - INFO - Chain [1] done processing\n",
      "10:39:32 - cmdstanpy - INFO - Chain [1] done processing\n"
     ]
    },
    {
     "name": "stdout",
     "output_type": "stream",
     "text": [
      "Testé: cps=0.1, sps=10.0, mode=multiplicative, nb=70 ➤ MAPE=0.0545\n"
     ]
    },
    {
     "data": {
      "text/html": [
       "<div>\n",
       "<style scoped>\n",
       "    .dataframe tbody tr th:only-of-type {\n",
       "        vertical-align: middle;\n",
       "    }\n",
       "\n",
       "    .dataframe tbody tr th {\n",
       "        vertical-align: top;\n",
       "    }\n",
       "\n",
       "    .dataframe thead th {\n",
       "        text-align: right;\n",
       "    }\n",
       "</style>\n",
       "<table border=\"1\" class=\"dataframe\">\n",
       "  <thead>\n",
       "    <tr style=\"text-align: right;\">\n",
       "      <th></th>\n",
       "      <th>changepoint_prior_scale</th>\n",
       "      <th>seasonality_prior_scale</th>\n",
       "      <th>seasonality_mode</th>\n",
       "      <th>mape</th>\n",
       "      <th>n_changepoints</th>\n",
       "    </tr>\n",
       "  </thead>\n",
       "  <tbody>\n",
       "    <tr>\n",
       "      <th>29</th>\n",
       "      <td>0.010</td>\n",
       "      <td>10.0</td>\n",
       "      <td>multiplicative</td>\n",
       "      <td>0.051918</td>\n",
       "      <td>70</td>\n",
       "    </tr>\n",
       "    <tr>\n",
       "      <th>19</th>\n",
       "      <td>0.010</td>\n",
       "      <td>1.0</td>\n",
       "      <td>multiplicative</td>\n",
       "      <td>0.051976</td>\n",
       "      <td>70</td>\n",
       "    </tr>\n",
       "    <tr>\n",
       "      <th>18</th>\n",
       "      <td>0.010</td>\n",
       "      <td>1.0</td>\n",
       "      <td>multiplicative</td>\n",
       "      <td>0.052478</td>\n",
       "      <td>50</td>\n",
       "    </tr>\n",
       "    <tr>\n",
       "      <th>24</th>\n",
       "      <td>0.010</td>\n",
       "      <td>5.0</td>\n",
       "      <td>multiplicative</td>\n",
       "      <td>0.052521</td>\n",
       "      <td>70</td>\n",
       "    </tr>\n",
       "    <tr>\n",
       "      <th>26</th>\n",
       "      <td>0.010</td>\n",
       "      <td>10.0</td>\n",
       "      <td>multiplicative</td>\n",
       "      <td>0.052622</td>\n",
       "      <td>20</td>\n",
       "    </tr>\n",
       "    <tr>\n",
       "      <th>16</th>\n",
       "      <td>0.010</td>\n",
       "      <td>1.0</td>\n",
       "      <td>multiplicative</td>\n",
       "      <td>0.052749</td>\n",
       "      <td>20</td>\n",
       "    </tr>\n",
       "    <tr>\n",
       "      <th>21</th>\n",
       "      <td>0.010</td>\n",
       "      <td>5.0</td>\n",
       "      <td>multiplicative</td>\n",
       "      <td>0.052790</td>\n",
       "      <td>20</td>\n",
       "    </tr>\n",
       "    <tr>\n",
       "      <th>34</th>\n",
       "      <td>0.050</td>\n",
       "      <td>1.0</td>\n",
       "      <td>multiplicative</td>\n",
       "      <td>0.052841</td>\n",
       "      <td>70</td>\n",
       "    </tr>\n",
       "    <tr>\n",
       "      <th>27</th>\n",
       "      <td>0.010</td>\n",
       "      <td>10.0</td>\n",
       "      <td>multiplicative</td>\n",
       "      <td>0.052842</td>\n",
       "      <td>30</td>\n",
       "    </tr>\n",
       "    <tr>\n",
       "      <th>33</th>\n",
       "      <td>0.050</td>\n",
       "      <td>1.0</td>\n",
       "      <td>multiplicative</td>\n",
       "      <td>0.052932</td>\n",
       "      <td>50</td>\n",
       "    </tr>\n",
       "    <tr>\n",
       "      <th>15</th>\n",
       "      <td>0.010</td>\n",
       "      <td>1.0</td>\n",
       "      <td>multiplicative</td>\n",
       "      <td>0.052988</td>\n",
       "      <td>10</td>\n",
       "    </tr>\n",
       "    <tr>\n",
       "      <th>17</th>\n",
       "      <td>0.010</td>\n",
       "      <td>1.0</td>\n",
       "      <td>multiplicative</td>\n",
       "      <td>0.053077</td>\n",
       "      <td>30</td>\n",
       "    </tr>\n",
       "    <tr>\n",
       "      <th>22</th>\n",
       "      <td>0.010</td>\n",
       "      <td>5.0</td>\n",
       "      <td>multiplicative</td>\n",
       "      <td>0.053391</td>\n",
       "      <td>30</td>\n",
       "    </tr>\n",
       "    <tr>\n",
       "      <th>23</th>\n",
       "      <td>0.010</td>\n",
       "      <td>5.0</td>\n",
       "      <td>multiplicative</td>\n",
       "      <td>0.053491</td>\n",
       "      <td>50</td>\n",
       "    </tr>\n",
       "    <tr>\n",
       "      <th>44</th>\n",
       "      <td>0.050</td>\n",
       "      <td>10.0</td>\n",
       "      <td>multiplicative</td>\n",
       "      <td>0.053504</td>\n",
       "      <td>70</td>\n",
       "    </tr>\n",
       "    <tr>\n",
       "      <th>54</th>\n",
       "      <td>0.100</td>\n",
       "      <td>5.0</td>\n",
       "      <td>multiplicative</td>\n",
       "      <td>0.053514</td>\n",
       "      <td>70</td>\n",
       "    </tr>\n",
       "    <tr>\n",
       "      <th>20</th>\n",
       "      <td>0.010</td>\n",
       "      <td>5.0</td>\n",
       "      <td>multiplicative</td>\n",
       "      <td>0.053752</td>\n",
       "      <td>10</td>\n",
       "    </tr>\n",
       "    <tr>\n",
       "      <th>37</th>\n",
       "      <td>0.050</td>\n",
       "      <td>5.0</td>\n",
       "      <td>multiplicative</td>\n",
       "      <td>0.053770</td>\n",
       "      <td>30</td>\n",
       "    </tr>\n",
       "    <tr>\n",
       "      <th>38</th>\n",
       "      <td>0.050</td>\n",
       "      <td>5.0</td>\n",
       "      <td>multiplicative</td>\n",
       "      <td>0.053804</td>\n",
       "      <td>50</td>\n",
       "    </tr>\n",
       "    <tr>\n",
       "      <th>32</th>\n",
       "      <td>0.050</td>\n",
       "      <td>1.0</td>\n",
       "      <td>multiplicative</td>\n",
       "      <td>0.053837</td>\n",
       "      <td>30</td>\n",
       "    </tr>\n",
       "    <tr>\n",
       "      <th>25</th>\n",
       "      <td>0.010</td>\n",
       "      <td>10.0</td>\n",
       "      <td>multiplicative</td>\n",
       "      <td>0.053842</td>\n",
       "      <td>10</td>\n",
       "    </tr>\n",
       "    <tr>\n",
       "      <th>43</th>\n",
       "      <td>0.050</td>\n",
       "      <td>10.0</td>\n",
       "      <td>multiplicative</td>\n",
       "      <td>0.053909</td>\n",
       "      <td>50</td>\n",
       "    </tr>\n",
       "    <tr>\n",
       "      <th>49</th>\n",
       "      <td>0.100</td>\n",
       "      <td>1.0</td>\n",
       "      <td>multiplicative</td>\n",
       "      <td>0.053912</td>\n",
       "      <td>70</td>\n",
       "    </tr>\n",
       "    <tr>\n",
       "      <th>28</th>\n",
       "      <td>0.010</td>\n",
       "      <td>10.0</td>\n",
       "      <td>multiplicative</td>\n",
       "      <td>0.053951</td>\n",
       "      <td>50</td>\n",
       "    </tr>\n",
       "    <tr>\n",
       "      <th>39</th>\n",
       "      <td>0.050</td>\n",
       "      <td>5.0</td>\n",
       "      <td>multiplicative</td>\n",
       "      <td>0.053956</td>\n",
       "      <td>70</td>\n",
       "    </tr>\n",
       "    <tr>\n",
       "      <th>41</th>\n",
       "      <td>0.050</td>\n",
       "      <td>10.0</td>\n",
       "      <td>multiplicative</td>\n",
       "      <td>0.053967</td>\n",
       "      <td>20</td>\n",
       "    </tr>\n",
       "    <tr>\n",
       "      <th>48</th>\n",
       "      <td>0.100</td>\n",
       "      <td>1.0</td>\n",
       "      <td>multiplicative</td>\n",
       "      <td>0.054233</td>\n",
       "      <td>50</td>\n",
       "    </tr>\n",
       "    <tr>\n",
       "      <th>31</th>\n",
       "      <td>0.050</td>\n",
       "      <td>1.0</td>\n",
       "      <td>multiplicative</td>\n",
       "      <td>0.054311</td>\n",
       "      <td>20</td>\n",
       "    </tr>\n",
       "    <tr>\n",
       "      <th>47</th>\n",
       "      <td>0.100</td>\n",
       "      <td>1.0</td>\n",
       "      <td>multiplicative</td>\n",
       "      <td>0.054493</td>\n",
       "      <td>30</td>\n",
       "    </tr>\n",
       "    <tr>\n",
       "      <th>52</th>\n",
       "      <td>0.100</td>\n",
       "      <td>5.0</td>\n",
       "      <td>multiplicative</td>\n",
       "      <td>0.054494</td>\n",
       "      <td>30</td>\n",
       "    </tr>\n",
       "    <tr>\n",
       "      <th>59</th>\n",
       "      <td>0.100</td>\n",
       "      <td>10.0</td>\n",
       "      <td>multiplicative</td>\n",
       "      <td>0.054502</td>\n",
       "      <td>70</td>\n",
       "    </tr>\n",
       "    <tr>\n",
       "      <th>57</th>\n",
       "      <td>0.100</td>\n",
       "      <td>10.0</td>\n",
       "      <td>multiplicative</td>\n",
       "      <td>0.054509</td>\n",
       "      <td>30</td>\n",
       "    </tr>\n",
       "    <tr>\n",
       "      <th>36</th>\n",
       "      <td>0.050</td>\n",
       "      <td>5.0</td>\n",
       "      <td>multiplicative</td>\n",
       "      <td>0.054589</td>\n",
       "      <td>20</td>\n",
       "    </tr>\n",
       "    <tr>\n",
       "      <th>53</th>\n",
       "      <td>0.100</td>\n",
       "      <td>5.0</td>\n",
       "      <td>multiplicative</td>\n",
       "      <td>0.054625</td>\n",
       "      <td>50</td>\n",
       "    </tr>\n",
       "    <tr>\n",
       "      <th>58</th>\n",
       "      <td>0.100</td>\n",
       "      <td>10.0</td>\n",
       "      <td>multiplicative</td>\n",
       "      <td>0.054636</td>\n",
       "      <td>50</td>\n",
       "    </tr>\n",
       "    <tr>\n",
       "      <th>56</th>\n",
       "      <td>0.100</td>\n",
       "      <td>10.0</td>\n",
       "      <td>multiplicative</td>\n",
       "      <td>0.054707</td>\n",
       "      <td>20</td>\n",
       "    </tr>\n",
       "    <tr>\n",
       "      <th>42</th>\n",
       "      <td>0.050</td>\n",
       "      <td>10.0</td>\n",
       "      <td>multiplicative</td>\n",
       "      <td>0.054759</td>\n",
       "      <td>30</td>\n",
       "    </tr>\n",
       "    <tr>\n",
       "      <th>30</th>\n",
       "      <td>0.050</td>\n",
       "      <td>1.0</td>\n",
       "      <td>multiplicative</td>\n",
       "      <td>0.054896</td>\n",
       "      <td>10</td>\n",
       "    </tr>\n",
       "    <tr>\n",
       "      <th>51</th>\n",
       "      <td>0.100</td>\n",
       "      <td>5.0</td>\n",
       "      <td>multiplicative</td>\n",
       "      <td>0.054901</td>\n",
       "      <td>20</td>\n",
       "    </tr>\n",
       "    <tr>\n",
       "      <th>40</th>\n",
       "      <td>0.050</td>\n",
       "      <td>10.0</td>\n",
       "      <td>multiplicative</td>\n",
       "      <td>0.054909</td>\n",
       "      <td>10</td>\n",
       "    </tr>\n",
       "    <tr>\n",
       "      <th>46</th>\n",
       "      <td>0.100</td>\n",
       "      <td>1.0</td>\n",
       "      <td>multiplicative</td>\n",
       "      <td>0.054978</td>\n",
       "      <td>20</td>\n",
       "    </tr>\n",
       "    <tr>\n",
       "      <th>45</th>\n",
       "      <td>0.100</td>\n",
       "      <td>1.0</td>\n",
       "      <td>multiplicative</td>\n",
       "      <td>0.055015</td>\n",
       "      <td>10</td>\n",
       "    </tr>\n",
       "    <tr>\n",
       "      <th>35</th>\n",
       "      <td>0.050</td>\n",
       "      <td>5.0</td>\n",
       "      <td>multiplicative</td>\n",
       "      <td>0.055035</td>\n",
       "      <td>10</td>\n",
       "    </tr>\n",
       "    <tr>\n",
       "      <th>50</th>\n",
       "      <td>0.100</td>\n",
       "      <td>5.0</td>\n",
       "      <td>multiplicative</td>\n",
       "      <td>0.055200</td>\n",
       "      <td>10</td>\n",
       "    </tr>\n",
       "    <tr>\n",
       "      <th>55</th>\n",
       "      <td>0.100</td>\n",
       "      <td>10.0</td>\n",
       "      <td>multiplicative</td>\n",
       "      <td>0.055276</td>\n",
       "      <td>10</td>\n",
       "    </tr>\n",
       "    <tr>\n",
       "      <th>11</th>\n",
       "      <td>0.001</td>\n",
       "      <td>10.0</td>\n",
       "      <td>multiplicative</td>\n",
       "      <td>0.055525</td>\n",
       "      <td>20</td>\n",
       "    </tr>\n",
       "    <tr>\n",
       "      <th>12</th>\n",
       "      <td>0.001</td>\n",
       "      <td>10.0</td>\n",
       "      <td>multiplicative</td>\n",
       "      <td>0.055964</td>\n",
       "      <td>30</td>\n",
       "    </tr>\n",
       "    <tr>\n",
       "      <th>3</th>\n",
       "      <td>0.001</td>\n",
       "      <td>1.0</td>\n",
       "      <td>multiplicative</td>\n",
       "      <td>0.055967</td>\n",
       "      <td>50</td>\n",
       "    </tr>\n",
       "    <tr>\n",
       "      <th>13</th>\n",
       "      <td>0.001</td>\n",
       "      <td>10.0</td>\n",
       "      <td>multiplicative</td>\n",
       "      <td>0.056007</td>\n",
       "      <td>50</td>\n",
       "    </tr>\n",
       "    <tr>\n",
       "      <th>9</th>\n",
       "      <td>0.001</td>\n",
       "      <td>5.0</td>\n",
       "      <td>multiplicative</td>\n",
       "      <td>0.056101</td>\n",
       "      <td>70</td>\n",
       "    </tr>\n",
       "    <tr>\n",
       "      <th>8</th>\n",
       "      <td>0.001</td>\n",
       "      <td>5.0</td>\n",
       "      <td>multiplicative</td>\n",
       "      <td>0.056127</td>\n",
       "      <td>50</td>\n",
       "    </tr>\n",
       "    <tr>\n",
       "      <th>14</th>\n",
       "      <td>0.001</td>\n",
       "      <td>10.0</td>\n",
       "      <td>multiplicative</td>\n",
       "      <td>0.056284</td>\n",
       "      <td>70</td>\n",
       "    </tr>\n",
       "    <tr>\n",
       "      <th>6</th>\n",
       "      <td>0.001</td>\n",
       "      <td>5.0</td>\n",
       "      <td>multiplicative</td>\n",
       "      <td>0.056446</td>\n",
       "      <td>20</td>\n",
       "    </tr>\n",
       "    <tr>\n",
       "      <th>2</th>\n",
       "      <td>0.001</td>\n",
       "      <td>1.0</td>\n",
       "      <td>multiplicative</td>\n",
       "      <td>0.056770</td>\n",
       "      <td>30</td>\n",
       "    </tr>\n",
       "    <tr>\n",
       "      <th>1</th>\n",
       "      <td>0.001</td>\n",
       "      <td>1.0</td>\n",
       "      <td>multiplicative</td>\n",
       "      <td>0.057299</td>\n",
       "      <td>20</td>\n",
       "    </tr>\n",
       "    <tr>\n",
       "      <th>7</th>\n",
       "      <td>0.001</td>\n",
       "      <td>5.0</td>\n",
       "      <td>multiplicative</td>\n",
       "      <td>0.057315</td>\n",
       "      <td>30</td>\n",
       "    </tr>\n",
       "    <tr>\n",
       "      <th>4</th>\n",
       "      <td>0.001</td>\n",
       "      <td>1.0</td>\n",
       "      <td>multiplicative</td>\n",
       "      <td>0.057333</td>\n",
       "      <td>70</td>\n",
       "    </tr>\n",
       "    <tr>\n",
       "      <th>0</th>\n",
       "      <td>0.001</td>\n",
       "      <td>1.0</td>\n",
       "      <td>multiplicative</td>\n",
       "      <td>0.058918</td>\n",
       "      <td>10</td>\n",
       "    </tr>\n",
       "    <tr>\n",
       "      <th>10</th>\n",
       "      <td>0.001</td>\n",
       "      <td>10.0</td>\n",
       "      <td>multiplicative</td>\n",
       "      <td>0.059904</td>\n",
       "      <td>10</td>\n",
       "    </tr>\n",
       "    <tr>\n",
       "      <th>5</th>\n",
       "      <td>0.001</td>\n",
       "      <td>5.0</td>\n",
       "      <td>multiplicative</td>\n",
       "      <td>0.060158</td>\n",
       "      <td>10</td>\n",
       "    </tr>\n",
       "  </tbody>\n",
       "</table>\n",
       "</div>"
      ],
      "text/plain": [
       "    changepoint_prior_scale  seasonality_prior_scale seasonality_mode  \\\n",
       "29                    0.010                     10.0   multiplicative   \n",
       "19                    0.010                      1.0   multiplicative   \n",
       "18                    0.010                      1.0   multiplicative   \n",
       "24                    0.010                      5.0   multiplicative   \n",
       "26                    0.010                     10.0   multiplicative   \n",
       "16                    0.010                      1.0   multiplicative   \n",
       "21                    0.010                      5.0   multiplicative   \n",
       "34                    0.050                      1.0   multiplicative   \n",
       "27                    0.010                     10.0   multiplicative   \n",
       "33                    0.050                      1.0   multiplicative   \n",
       "15                    0.010                      1.0   multiplicative   \n",
       "17                    0.010                      1.0   multiplicative   \n",
       "22                    0.010                      5.0   multiplicative   \n",
       "23                    0.010                      5.0   multiplicative   \n",
       "44                    0.050                     10.0   multiplicative   \n",
       "54                    0.100                      5.0   multiplicative   \n",
       "20                    0.010                      5.0   multiplicative   \n",
       "37                    0.050                      5.0   multiplicative   \n",
       "38                    0.050                      5.0   multiplicative   \n",
       "32                    0.050                      1.0   multiplicative   \n",
       "25                    0.010                     10.0   multiplicative   \n",
       "43                    0.050                     10.0   multiplicative   \n",
       "49                    0.100                      1.0   multiplicative   \n",
       "28                    0.010                     10.0   multiplicative   \n",
       "39                    0.050                      5.0   multiplicative   \n",
       "41                    0.050                     10.0   multiplicative   \n",
       "48                    0.100                      1.0   multiplicative   \n",
       "31                    0.050                      1.0   multiplicative   \n",
       "47                    0.100                      1.0   multiplicative   \n",
       "52                    0.100                      5.0   multiplicative   \n",
       "59                    0.100                     10.0   multiplicative   \n",
       "57                    0.100                     10.0   multiplicative   \n",
       "36                    0.050                      5.0   multiplicative   \n",
       "53                    0.100                      5.0   multiplicative   \n",
       "58                    0.100                     10.0   multiplicative   \n",
       "56                    0.100                     10.0   multiplicative   \n",
       "42                    0.050                     10.0   multiplicative   \n",
       "30                    0.050                      1.0   multiplicative   \n",
       "51                    0.100                      5.0   multiplicative   \n",
       "40                    0.050                     10.0   multiplicative   \n",
       "46                    0.100                      1.0   multiplicative   \n",
       "45                    0.100                      1.0   multiplicative   \n",
       "35                    0.050                      5.0   multiplicative   \n",
       "50                    0.100                      5.0   multiplicative   \n",
       "55                    0.100                     10.0   multiplicative   \n",
       "11                    0.001                     10.0   multiplicative   \n",
       "12                    0.001                     10.0   multiplicative   \n",
       "3                     0.001                      1.0   multiplicative   \n",
       "13                    0.001                     10.0   multiplicative   \n",
       "9                     0.001                      5.0   multiplicative   \n",
       "8                     0.001                      5.0   multiplicative   \n",
       "14                    0.001                     10.0   multiplicative   \n",
       "6                     0.001                      5.0   multiplicative   \n",
       "2                     0.001                      1.0   multiplicative   \n",
       "1                     0.001                      1.0   multiplicative   \n",
       "7                     0.001                      5.0   multiplicative   \n",
       "4                     0.001                      1.0   multiplicative   \n",
       "0                     0.001                      1.0   multiplicative   \n",
       "10                    0.001                     10.0   multiplicative   \n",
       "5                     0.001                      5.0   multiplicative   \n",
       "\n",
       "        mape  n_changepoints  \n",
       "29  0.051918              70  \n",
       "19  0.051976              70  \n",
       "18  0.052478              50  \n",
       "24  0.052521              70  \n",
       "26  0.052622              20  \n",
       "16  0.052749              20  \n",
       "21  0.052790              20  \n",
       "34  0.052841              70  \n",
       "27  0.052842              30  \n",
       "33  0.052932              50  \n",
       "15  0.052988              10  \n",
       "17  0.053077              30  \n",
       "22  0.053391              30  \n",
       "23  0.053491              50  \n",
       "44  0.053504              70  \n",
       "54  0.053514              70  \n",
       "20  0.053752              10  \n",
       "37  0.053770              30  \n",
       "38  0.053804              50  \n",
       "32  0.053837              30  \n",
       "25  0.053842              10  \n",
       "43  0.053909              50  \n",
       "49  0.053912              70  \n",
       "28  0.053951              50  \n",
       "39  0.053956              70  \n",
       "41  0.053967              20  \n",
       "48  0.054233              50  \n",
       "31  0.054311              20  \n",
       "47  0.054493              30  \n",
       "52  0.054494              30  \n",
       "59  0.054502              70  \n",
       "57  0.054509              30  \n",
       "36  0.054589              20  \n",
       "53  0.054625              50  \n",
       "58  0.054636              50  \n",
       "56  0.054707              20  \n",
       "42  0.054759              30  \n",
       "30  0.054896              10  \n",
       "51  0.054901              20  \n",
       "40  0.054909              10  \n",
       "46  0.054978              20  \n",
       "45  0.055015              10  \n",
       "35  0.055035              10  \n",
       "50  0.055200              10  \n",
       "55  0.055276              10  \n",
       "11  0.055525              20  \n",
       "12  0.055964              30  \n",
       "3   0.055967              50  \n",
       "13  0.056007              50  \n",
       "9   0.056101              70  \n",
       "8   0.056127              50  \n",
       "14  0.056284              70  \n",
       "6   0.056446              20  \n",
       "2   0.056770              30  \n",
       "1   0.057299              20  \n",
       "7   0.057315              30  \n",
       "4   0.057333              70  \n",
       "0   0.058918              10  \n",
       "10  0.059904              10  \n",
       "5   0.060158              10  "
      ]
     },
     "execution_count": 20,
     "metadata": {},
     "output_type": "execute_result"
    }
   ],
   "source": [
    "from prophet import Prophet\n",
    "from prophet.diagnostics import cross_validation, performance_metrics\n",
    "import pandas as pd\n",
    "\n",
    "# Ton dataframe Prophet de départ : train_df avec colonnes 'ds' et 'y'\n",
    "\n",
    "# Choix des paramètres à tester\n",
    "changepoint_scales = [0.001, 0.01, 0.05, 0.1]\n",
    "seasonality_scales = [1.0, 5.0, 10.0]\n",
    "n_changepoints = [10, 20, 30, 50, 70]  # Nombre de points de changement à tester\n",
    "\n",
    "# Stocker les résultats\n",
    "results = []\n",
    "\n",
    "for cps in changepoint_scales:\n",
    "    for sps in seasonality_scales:\n",
    "        for n_changepoint in n_changepoints:\n",
    "            # Crée le modèle avec la combinaison de paramètres\n",
    "            model = Prophet(\n",
    "                growth='linear',\n",
    "                yearly_seasonality='auto',\n",
    "                changepoint_prior_scale=cps,\n",
    "                seasonality_prior_scale=sps,\n",
    "                seasonality_mode='multiplicative',  # Utiliser 'multiplicative' par défaut\n",
    "                n_changepoints=n_changepoint\n",
    "            )\n",
    "\n",
    "            try:\n",
    "                model.fit(train_df)\n",
    "\n",
    "                # Validation croisée\n",
    "                df_cv = cross_validation(model, \n",
    "                                         initial='1461 days', \n",
    "                                         period='365 days', \n",
    "                                         horizon='365 days',\n",
    "                                         parallel=\"processes\")\n",
    "\n",
    "                df_p = performance_metrics(df_cv)\n",
    "                mape = df_p['mape'].mean()\n",
    "\n",
    "                results.append({\n",
    "                    'changepoint_prior_scale': cps,\n",
    "                    'seasonality_prior_scale': sps,\n",
    "                    'seasonality_mode': 'multiplicative',  # Utilisé par défaut\n",
    "                    'mape': mape,\n",
    "                    'n_changepoints': n_changepoint\n",
    "                })\n",
    "\n",
    "                print(f\"Testé: cps={cps}, sps={sps}, mode={'multiplicative'}, nb={n_changepoint} ➤ MAPE={mape:.4f}\")\n",
    "\n",
    "            except Exception as e:\n",
    "                print(f\"Échec pour cps={cps}, sps={sps}, mode={'multiplicative'}, nb={n_changepoint}' ➤ {str(e)}\")\n",
    "\n",
    "# Résultats triés\n",
    "results_df = pd.DataFrame(results).sort_values(by=\"mape\")\n",
    "results_df\n"
   ]
  },
  {
   "cell_type": "code",
   "execution_count": null,
   "metadata": {},
   "outputs": [
    {
     "name": "stderr",
     "output_type": "stream",
     "text": [
      "10:41:04 - cmdstanpy - INFO - Chain [1] start processing\n",
      "10:41:04 - cmdstanpy - INFO - Chain [1] done processing\n"
     ]
    },
    {
     "data": {
      "image/png": "[encoded data removed]",
      "text/plain": [
       "<Figure size 1000x600 with 1 Axes>"
      ]
     },
     "metadata": {},
     "output_type": "display_data"
    },
    {
     "name": "stdout",
     "output_type": "stream",
     "text": [
      "MAPE sur les données test : 1.40 %\n"
     ]
    }
   ],
   "source": [
    "import pandas as pd\n",
    "import numpy as np\n",
    "import matplotlib.pyplot as plt\n",
    "from prophet import Prophet\n",
    "from pmdarima.datasets import load_airpassengers\n",
    "\n",
    "# 1. Charger et préparer les données\n",
    "START_DATE = '1949-01-01'\n",
    "airline = load_airpassengers(as_series=True)\n",
    "airline.index = pd.date_range(START_DATE, periods=len(airline), freq='MS')\n",
    "airline_adj = airline / airline.index.days_in_month\n",
    "\n",
    "# 2. Séparer en train/test + log\n",
    "train = airline_adj[airline_adj.index < '1960-01-01']\n",
    "test = airline_adj[airline_adj.index >= '1960-01-01']\n",
    "train_log = np.log(train)\n",
    "test_log = np.log(test)\n",
    "\n",
    "# 3. Reformatage pour Prophet\n",
    "train_df = pd.DataFrame(train_log).reset_index().rename(columns={0: 'y', 'index': 'ds'})\n",
    "\n",
    "# 4. Entraînement avec les meilleurs hyperparamètres\n",
    "model = Prophet(\n",
    "    changepoint_prior_scale=0.010,\n",
    "    seasonality_prior_scale=10.0,\n",
    "    seasonality_mode='multiplicative',\n",
    "    n_changepoints=70,\n",
    "    yearly_seasonality='auto'\n",
    ")\n",
    "model.fit(train_df)\n",
    "\n",
    "# 5. Prédiction sur 12 mois supplémentaires\n",
    "future = model.make_future_dataframe(periods=12, freq='MS', include_history=True)\n",
    "forecast = model.predict(future)\n",
    "\n",
    "# 6. Tracer\n",
    "fig = model.plot(forecast)\n",
    "plt.title(\"Prévision Prophet vs données réelles (log des passagers)\")\n",
    "plt.xlabel(\"Date\")\n",
    "plt.ylabel(\"Log du nombre de passagers ajusté\")\n",
    "\n",
    "# Ajouter les vraies valeurs de test\n",
    "plt.plot(test_log.index, test_log.values, 'r.--', label='test réel')\n",
    "plt.legend()\n",
    "plt.grid(True)\n",
    "plt.tight_layout()\n",
    "plt.show()\n",
    "\n",
    "# 1. Récupérer les prédictions sur la période test\n",
    "y_pred = forecast.set_index('ds').loc[test_log.index]['yhat']\n",
    "y_true = test_log\n",
    "\n",
    "# 2. Calcul MAPE\n",
    "def mean_absolute_percentage_error(y_true, y_pred):\n",
    "    return np.mean(np.abs((y_true - y_pred) / y_true)) * 100\n",
    "\n",
    "mape = mean_absolute_percentage_error(y_true, y_pred)\n",
    "# MAPE sur 12 mois et non en cross validation d'ou la valeur différente\n",
    "print(f\"MAPE sur les données test : {mape:.2f} %\")\n",
    "\n"
   ]
  },
  {
   "cell_type": "markdown",
   "metadata": {},
   "source": [
    "# Optional exercise - Energy data forecasting ⚡\n",
    "\n",
    "Forecasting energy demand is big business and very important in helping energy producers maintain the balance within the electrical grid. You can find forecasts of energy demands for France in realtime [here](https://www.rte-france.com/fr/eco2mix/eco2mix-consommation). The data was already downloaded in the `data/nats.csv` file.\n",
    "\n",
    "Your mission now is to imagine a useful use-case for an enterprise and use `Prophet` to make forecasts on the energy data you have already seen (in data viz module) for France! Feel free to choose :\n",
    "* the type of energy generation/consommation\n",
    "* france or regional,\n",
    "* frequency scale you wish to try!\n",
    "\n",
    "Try and consider a forecast horizon that seems useful for the frequency at which you are making your predictions e.g. predicting the hourly forecast for 12 months propbably cannot be used in any meaningful way - and is probably not going be very easy to forecast accurately.\n",
    "\n",
    "Consider that:\n",
    "* Reducing the scale of the data, i.e. to regional\n",
    "* Higher frequency predictions\n",
    "* longer periods of forecast\n",
    "\n",
    "...are likely to make it more difficult to make a good forecast.\n",
    "\n",
    "Consider also that you must pick the most suitable cross validation procedure for your problem. Consider the initial, step and horizon you will use carefully.\n",
    "\n",
    "Once you have made your model:\n",
    "1. Compare it to a naive model!! If it does not beat this then try reducing your forecast horizon to find at what scale you can make useful predictions.\n",
    "2. Try tuning the model in some way to improve performance (add holidays might be a good idea)\n",
    "3. If you have time compare your model to an ARIMA model. Why might there be differences in perfomance between the two approachecs to forecasting?\n",
    "\n",
    "(feel free to use a new notebook for this task!)"
   ]
  },
  {
   "cell_type": "code",
   "execution_count": 24,
   "metadata": {},
   "outputs": [
    {
     "ename": "ValueError",
     "evalue": "Missing column provided to 'parse_dates': 'Date'",
     "output_type": "error",
     "traceback": [
      "\u001b[0;31m---------------------------------------------------------------------------\u001b[0m",
      "\u001b[0;31mValueError\u001b[0m                                Traceback (most recent call last)",
      "Cell \u001b[0;32mIn[24], line 2\u001b[0m\n\u001b[1;32m      1\u001b[0m \u001b[38;5;66;03m# On récupère les données de conso.csv\u001b[39;00m\n\u001b[0;32m----> 2\u001b[0m conso \u001b[38;5;241m=\u001b[39m pd\u001b[38;5;241m.\u001b[39mread_csv(\u001b[38;5;124m'\u001b[39m\u001b[38;5;124mconso.csv\u001b[39m\u001b[38;5;124m'\u001b[39m, parse_dates\u001b[38;5;241m=\u001b[39m[\u001b[38;5;124m'\u001b[39m\u001b[38;5;124mDate\u001b[39m\u001b[38;5;124m'\u001b[39m], index_col\u001b[38;5;241m=\u001b[39m\u001b[38;5;124m'\u001b[39m\u001b[38;5;124mDate\u001b[39m\u001b[38;5;124m'\u001b[39m)\n\u001b[1;32m      3\u001b[0m conso \u001b[38;5;241m=\u001b[39m conso\u001b[38;5;241m.\u001b[39mresample(\u001b[38;5;124m'\u001b[39m\u001b[38;5;124mM\u001b[39m\u001b[38;5;124m'\u001b[39m)\u001b[38;5;241m.\u001b[39mmean()  \u001b[38;5;66;03m# On prend la moyenne\u001b[39;00m\n\u001b[1;32m      4\u001b[0m conso \u001b[38;5;241m=\u001b[39m conso\u001b[38;5;241m.\u001b[39mdropna()  \u001b[38;5;66;03m# On supprime les lignes avec des valeurs manquantes\u001b[39;00m\n",
      "File \u001b[0;32m/opt/anaconda3/lib/python3.12/site-packages/pandas/io/parsers/readers.py:1026\u001b[0m, in \u001b[0;36mread_csv\u001b[0;34m(filepath_or_buffer, sep, delimiter, header, names, index_col, usecols, dtype, engine, converters, true_values, false_values, skipinitialspace, skiprows, skipfooter, nrows, na_values, keep_default_na, na_filter, verbose, skip_blank_lines, parse_dates, infer_datetime_format, keep_date_col, date_parser, date_format, dayfirst, cache_dates, iterator, chunksize, compression, thousands, decimal, lineterminator, quotechar, quoting, doublequote, escapechar, comment, encoding, encoding_errors, dialect, on_bad_lines, delim_whitespace, low_memory, memory_map, float_precision, storage_options, dtype_backend)\u001b[0m\n\u001b[1;32m   1013\u001b[0m kwds_defaults \u001b[38;5;241m=\u001b[39m _refine_defaults_read(\n\u001b[1;32m   1014\u001b[0m     dialect,\n\u001b[1;32m   1015\u001b[0m     delimiter,\n\u001b[0;32m   (...)\u001b[0m\n\u001b[1;32m   1022\u001b[0m     dtype_backend\u001b[38;5;241m=\u001b[39mdtype_backend,\n\u001b[1;32m   1023\u001b[0m )\n\u001b[1;32m   1024\u001b[0m kwds\u001b[38;5;241m.\u001b[39mupdate(kwds_defaults)\n\u001b[0;32m-> 1026\u001b[0m \u001b[38;5;28;01mreturn\u001b[39;00m _read(filepath_or_buffer, kwds)\n",
      "File \u001b[0;32m/opt/anaconda3/lib/python3.12/site-packages/pandas/io/parsers/readers.py:620\u001b[0m, in \u001b[0;36m_read\u001b[0;34m(filepath_or_buffer, kwds)\u001b[0m\n\u001b[1;32m    617\u001b[0m _validate_names(kwds\u001b[38;5;241m.\u001b[39mget(\u001b[38;5;124m\"\u001b[39m\u001b[38;5;124mnames\u001b[39m\u001b[38;5;124m\"\u001b[39m, \u001b[38;5;28;01mNone\u001b[39;00m))\n\u001b[1;32m    619\u001b[0m \u001b[38;5;66;03m# Create the parser.\u001b[39;00m\n\u001b[0;32m--> 620\u001b[0m parser \u001b[38;5;241m=\u001b[39m TextFileReader(filepath_or_buffer, \u001b[38;5;241m*\u001b[39m\u001b[38;5;241m*\u001b[39mkwds)\n\u001b[1;32m    622\u001b[0m \u001b[38;5;28;01mif\u001b[39;00m chunksize \u001b[38;5;129;01mor\u001b[39;00m iterator:\n\u001b[1;32m    623\u001b[0m     \u001b[38;5;28;01mreturn\u001b[39;00m parser\n",
      "File \u001b[0;32m/opt/anaconda3/lib/python3.12/site-packages/pandas/io/parsers/readers.py:1620\u001b[0m, in \u001b[0;36mTextFileReader.__init__\u001b[0;34m(self, f, engine, **kwds)\u001b[0m\n\u001b[1;32m   1617\u001b[0m     \u001b[38;5;28mself\u001b[39m\u001b[38;5;241m.\u001b[39moptions[\u001b[38;5;124m\"\u001b[39m\u001b[38;5;124mhas_index_names\u001b[39m\u001b[38;5;124m\"\u001b[39m] \u001b[38;5;241m=\u001b[39m kwds[\u001b[38;5;124m\"\u001b[39m\u001b[38;5;124mhas_index_names\u001b[39m\u001b[38;5;124m\"\u001b[39m]\n\u001b[1;32m   1619\u001b[0m \u001b[38;5;28mself\u001b[39m\u001b[38;5;241m.\u001b[39mhandles: IOHandles \u001b[38;5;241m|\u001b[39m \u001b[38;5;28;01mNone\u001b[39;00m \u001b[38;5;241m=\u001b[39m \u001b[38;5;28;01mNone\u001b[39;00m\n\u001b[0;32m-> 1620\u001b[0m \u001b[38;5;28mself\u001b[39m\u001b[38;5;241m.\u001b[39m_engine \u001b[38;5;241m=\u001b[39m \u001b[38;5;28mself\u001b[39m\u001b[38;5;241m.\u001b[39m_make_engine(f, \u001b[38;5;28mself\u001b[39m\u001b[38;5;241m.\u001b[39mengine)\n",
      "File \u001b[0;32m/opt/anaconda3/lib/python3.12/site-packages/pandas/io/parsers/readers.py:1898\u001b[0m, in \u001b[0;36mTextFileReader._make_engine\u001b[0;34m(self, f, engine)\u001b[0m\n\u001b[1;32m   1895\u001b[0m     \u001b[38;5;28;01mraise\u001b[39;00m \u001b[38;5;167;01mValueError\u001b[39;00m(msg)\n\u001b[1;32m   1897\u001b[0m \u001b[38;5;28;01mtry\u001b[39;00m:\n\u001b[0;32m-> 1898\u001b[0m     \u001b[38;5;28;01mreturn\u001b[39;00m mapping[engine](f, \u001b[38;5;241m*\u001b[39m\u001b[38;5;241m*\u001b[39m\u001b[38;5;28mself\u001b[39m\u001b[38;5;241m.\u001b[39moptions)\n\u001b[1;32m   1899\u001b[0m \u001b[38;5;28;01mexcept\u001b[39;00m \u001b[38;5;167;01mException\u001b[39;00m:\n\u001b[1;32m   1900\u001b[0m     \u001b[38;5;28;01mif\u001b[39;00m \u001b[38;5;28mself\u001b[39m\u001b[38;5;241m.\u001b[39mhandles \u001b[38;5;129;01mis\u001b[39;00m \u001b[38;5;129;01mnot\u001b[39;00m \u001b[38;5;28;01mNone\u001b[39;00m:\n",
      "File \u001b[0;32m/opt/anaconda3/lib/python3.12/site-packages/pandas/io/parsers/c_parser_wrapper.py:161\u001b[0m, in \u001b[0;36mCParserWrapper.__init__\u001b[0;34m(self, src, **kwds)\u001b[0m\n\u001b[1;32m    155\u001b[0m         \u001b[38;5;28mself\u001b[39m\u001b[38;5;241m.\u001b[39m_validate_usecols_names(\n\u001b[1;32m    156\u001b[0m             usecols,\n\u001b[1;32m    157\u001b[0m             \u001b[38;5;28mself\u001b[39m\u001b[38;5;241m.\u001b[39mnames,  \u001b[38;5;66;03m# type: ignore[has-type]\u001b[39;00m\n\u001b[1;32m    158\u001b[0m         )\n\u001b[1;32m    160\u001b[0m \u001b[38;5;66;03m# error: Cannot determine type of 'names'\u001b[39;00m\n\u001b[0;32m--> 161\u001b[0m \u001b[38;5;28mself\u001b[39m\u001b[38;5;241m.\u001b[39m_validate_parse_dates_presence(\u001b[38;5;28mself\u001b[39m\u001b[38;5;241m.\u001b[39mnames)  \u001b[38;5;66;03m# type: ignore[has-type]\u001b[39;00m\n\u001b[1;32m    162\u001b[0m \u001b[38;5;28mself\u001b[39m\u001b[38;5;241m.\u001b[39m_set_noconvert_columns()\n\u001b[1;32m    164\u001b[0m \u001b[38;5;66;03m# error: Cannot determine type of 'names'\u001b[39;00m\n",
      "File \u001b[0;32m/opt/anaconda3/lib/python3.12/site-packages/pandas/io/parsers/base_parser.py:243\u001b[0m, in \u001b[0;36mParserBase._validate_parse_dates_presence\u001b[0;34m(self, columns)\u001b[0m\n\u001b[1;32m    233\u001b[0m missing_cols \u001b[38;5;241m=\u001b[39m \u001b[38;5;124m\"\u001b[39m\u001b[38;5;124m, \u001b[39m\u001b[38;5;124m\"\u001b[39m\u001b[38;5;241m.\u001b[39mjoin(\n\u001b[1;32m    234\u001b[0m     \u001b[38;5;28msorted\u001b[39m(\n\u001b[1;32m    235\u001b[0m         {\n\u001b[0;32m   (...)\u001b[0m\n\u001b[1;32m    240\u001b[0m     )\n\u001b[1;32m    241\u001b[0m )\n\u001b[1;32m    242\u001b[0m \u001b[38;5;28;01mif\u001b[39;00m missing_cols:\n\u001b[0;32m--> 243\u001b[0m     \u001b[38;5;28;01mraise\u001b[39;00m \u001b[38;5;167;01mValueError\u001b[39;00m(\n\u001b[1;32m    244\u001b[0m         \u001b[38;5;124mf\u001b[39m\u001b[38;5;124m\"\u001b[39m\u001b[38;5;124mMissing column provided to \u001b[39m\u001b[38;5;124m'\u001b[39m\u001b[38;5;124mparse_dates\u001b[39m\u001b[38;5;124m'\u001b[39m\u001b[38;5;124m: \u001b[39m\u001b[38;5;124m'\u001b[39m\u001b[38;5;132;01m{\u001b[39;00mmissing_cols\u001b[38;5;132;01m}\u001b[39;00m\u001b[38;5;124m'\u001b[39m\u001b[38;5;124m\"\u001b[39m\n\u001b[1;32m    245\u001b[0m     )\n\u001b[1;32m    246\u001b[0m \u001b[38;5;66;03m# Convert positions to actual column names\u001b[39;00m\n\u001b[1;32m    247\u001b[0m \u001b[38;5;28;01mreturn\u001b[39;00m [\n\u001b[1;32m    248\u001b[0m     col \u001b[38;5;28;01mif\u001b[39;00m (\u001b[38;5;28misinstance\u001b[39m(col, \u001b[38;5;28mstr\u001b[39m) \u001b[38;5;129;01mor\u001b[39;00m col \u001b[38;5;129;01min\u001b[39;00m columns) \u001b[38;5;28;01melse\u001b[39;00m columns[col]\n\u001b[1;32m    249\u001b[0m     \u001b[38;5;28;01mfor\u001b[39;00m col \u001b[38;5;129;01min\u001b[39;00m cols_needed\n\u001b[1;32m    250\u001b[0m ]\n",
      "\u001b[0;31mValueError\u001b[0m: Missing column provided to 'parse_dates': 'Date'"
     ]
    }
   ],
   "source": [
    "# On récupère les données de conso.csv\n",
    "conso = pd.read_csv('conso.csv', parse_dates=['Date'], index_col='Date')\n",
    "conso = conso.resample('M').mean()  # On prend la moyenne\n",
    "conso = conso.dropna()  # On supprime les lignes avec des valeurs manquantes\n",
    "\n",
    "# On trace la série temporelle\n",
    "plt.figure(figsize=(12, 6))\n",
    "plt.plot(conso.index, conso['Conso'], label='Consommation Électrique', color='blue')\n",
    "plt.title('Consommation Électrique Mensuelle')\n",
    "plt.xlabel('Date')\n",
    "plt.ylabel('Consommation (kWh)')\n",
    "plt.legend()\n",
    "plt.grid(True)"
   ]
  }
 ],
 "metadata": {
  "kernelspec": {
   "display_name": "base",
   "language": "python",
   "name": "python3"
  },
  "language_info": {
   "codemirror_mode": {
    "name": "ipython",
    "version": 3
   },
   "file_extension": ".py",
   "mimetype": "text/x-python",
   "name": "python",
   "nbconvert_exporter": "python",
   "pygments_lexer": "ipython3",
   "version": "3.12.7"
  },
  "toc": {
   "base_numbering": 1,
   "nav_menu": {},
   "number_sections": true,
   "sideBar": true,
   "skip_h1_title": false,
   "title_cell": "Table of Contents",
   "title_sidebar": "Contents",
   "toc_cell": false,
   "toc_position": {},
   "toc_section_display": true,
   "toc_window_display": false
  }
 },
 "nbformat": 4,
 "nbformat_minor": 4
}
